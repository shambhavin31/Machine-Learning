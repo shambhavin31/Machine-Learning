{
 "cells": [
  {
   "cell_type": "markdown",
   "id": "8f66548f",
   "metadata": {},
   "source": [
    "## Importing Libraries"
   ]
  },
  {
   "cell_type": "code",
   "execution_count": 84,
   "id": "7d7b356c",
   "metadata": {},
   "outputs": [],
   "source": [
    "import warnings\n",
    "warnings.filterwarnings('ignore')\n",
    "\n",
    "import pandas as pd\n",
    "import numpy as np\n",
    "import seaborn as sns\n",
    "import matplotlib.pyplot as plt\n",
    "\n",
    "\n",
    "from sklearn.metrics import mean_squared_error\n",
    "import sklearn.metrics as metrics\n",
    "from sklearn.metrics import mean_absolute_error\n",
    "from sklearn.metrics import r2_score\n"
   ]
  },
  {
   "cell_type": "markdown",
   "id": "542025f7",
   "metadata": {},
   "source": [
    "## Importing Data"
   ]
  },
  {
   "cell_type": "code",
   "execution_count": 85,
   "id": "ca3e9fb6",
   "metadata": {},
   "outputs": [],
   "source": [
    "df=pd.read_csv('day.csv')"
   ]
  },
  {
   "cell_type": "code",
   "execution_count": 86,
   "id": "ef4012a0",
   "metadata": {},
   "outputs": [
    {
     "data": {
      "text/html": [
       "<div>\n",
       "<style scoped>\n",
       "    .dataframe tbody tr th:only-of-type {\n",
       "        vertical-align: middle;\n",
       "    }\n",
       "\n",
       "    .dataframe tbody tr th {\n",
       "        vertical-align: top;\n",
       "    }\n",
       "\n",
       "    .dataframe thead th {\n",
       "        text-align: right;\n",
       "    }\n",
       "</style>\n",
       "<table border=\"1\" class=\"dataframe\">\n",
       "  <thead>\n",
       "    <tr style=\"text-align: right;\">\n",
       "      <th></th>\n",
       "      <th>instant</th>\n",
       "      <th>dteday</th>\n",
       "      <th>season</th>\n",
       "      <th>yr</th>\n",
       "      <th>mnth</th>\n",
       "      <th>holiday</th>\n",
       "      <th>weekday</th>\n",
       "      <th>workingday</th>\n",
       "      <th>weathersit</th>\n",
       "      <th>temp</th>\n",
       "      <th>atemp</th>\n",
       "      <th>hum</th>\n",
       "      <th>windspeed</th>\n",
       "      <th>casual</th>\n",
       "      <th>registered</th>\n",
       "      <th>cnt</th>\n",
       "    </tr>\n",
       "  </thead>\n",
       "  <tbody>\n",
       "    <tr>\n",
       "      <th>0</th>\n",
       "      <td>1</td>\n",
       "      <td>01-01-2018</td>\n",
       "      <td>1</td>\n",
       "      <td>0</td>\n",
       "      <td>1</td>\n",
       "      <td>0</td>\n",
       "      <td>6</td>\n",
       "      <td>0</td>\n",
       "      <td>2</td>\n",
       "      <td>14.110847</td>\n",
       "      <td>18.18125</td>\n",
       "      <td>80.5833</td>\n",
       "      <td>10.749882</td>\n",
       "      <td>331</td>\n",
       "      <td>654</td>\n",
       "      <td>985</td>\n",
       "    </tr>\n",
       "    <tr>\n",
       "      <th>1</th>\n",
       "      <td>2</td>\n",
       "      <td>02-01-2018</td>\n",
       "      <td>1</td>\n",
       "      <td>0</td>\n",
       "      <td>1</td>\n",
       "      <td>0</td>\n",
       "      <td>0</td>\n",
       "      <td>0</td>\n",
       "      <td>2</td>\n",
       "      <td>14.902598</td>\n",
       "      <td>17.68695</td>\n",
       "      <td>69.6087</td>\n",
       "      <td>16.652113</td>\n",
       "      <td>131</td>\n",
       "      <td>670</td>\n",
       "      <td>801</td>\n",
       "    </tr>\n",
       "    <tr>\n",
       "      <th>2</th>\n",
       "      <td>3</td>\n",
       "      <td>03-01-2018</td>\n",
       "      <td>1</td>\n",
       "      <td>0</td>\n",
       "      <td>1</td>\n",
       "      <td>0</td>\n",
       "      <td>1</td>\n",
       "      <td>1</td>\n",
       "      <td>1</td>\n",
       "      <td>8.050924</td>\n",
       "      <td>9.47025</td>\n",
       "      <td>43.7273</td>\n",
       "      <td>16.636703</td>\n",
       "      <td>120</td>\n",
       "      <td>1229</td>\n",
       "      <td>1349</td>\n",
       "    </tr>\n",
       "    <tr>\n",
       "      <th>3</th>\n",
       "      <td>4</td>\n",
       "      <td>04-01-2018</td>\n",
       "      <td>1</td>\n",
       "      <td>0</td>\n",
       "      <td>1</td>\n",
       "      <td>0</td>\n",
       "      <td>2</td>\n",
       "      <td>1</td>\n",
       "      <td>1</td>\n",
       "      <td>8.200000</td>\n",
       "      <td>10.60610</td>\n",
       "      <td>59.0435</td>\n",
       "      <td>10.739832</td>\n",
       "      <td>108</td>\n",
       "      <td>1454</td>\n",
       "      <td>1562</td>\n",
       "    </tr>\n",
       "    <tr>\n",
       "      <th>4</th>\n",
       "      <td>5</td>\n",
       "      <td>05-01-2018</td>\n",
       "      <td>1</td>\n",
       "      <td>0</td>\n",
       "      <td>1</td>\n",
       "      <td>0</td>\n",
       "      <td>3</td>\n",
       "      <td>1</td>\n",
       "      <td>1</td>\n",
       "      <td>9.305237</td>\n",
       "      <td>11.46350</td>\n",
       "      <td>43.6957</td>\n",
       "      <td>12.522300</td>\n",
       "      <td>82</td>\n",
       "      <td>1518</td>\n",
       "      <td>1600</td>\n",
       "    </tr>\n",
       "  </tbody>\n",
       "</table>\n",
       "</div>"
      ],
      "text/plain": [
       "   instant      dteday  season  yr  mnth  holiday  weekday  workingday  \\\n",
       "0        1  01-01-2018       1   0     1        0        6           0   \n",
       "1        2  02-01-2018       1   0     1        0        0           0   \n",
       "2        3  03-01-2018       1   0     1        0        1           1   \n",
       "3        4  04-01-2018       1   0     1        0        2           1   \n",
       "4        5  05-01-2018       1   0     1        0        3           1   \n",
       "\n",
       "   weathersit       temp     atemp      hum  windspeed  casual  registered  \\\n",
       "0           2  14.110847  18.18125  80.5833  10.749882     331         654   \n",
       "1           2  14.902598  17.68695  69.6087  16.652113     131         670   \n",
       "2           1   8.050924   9.47025  43.7273  16.636703     120        1229   \n",
       "3           1   8.200000  10.60610  59.0435  10.739832     108        1454   \n",
       "4           1   9.305237  11.46350  43.6957  12.522300      82        1518   \n",
       "\n",
       "    cnt  \n",
       "0   985  \n",
       "1   801  \n",
       "2  1349  \n",
       "3  1562  \n",
       "4  1600  "
      ]
     },
     "execution_count": 86,
     "metadata": {},
     "output_type": "execute_result"
    }
   ],
   "source": [
    "#Checking first 5 rows\n",
    "df.head()"
   ]
  },
  {
   "cell_type": "code",
   "execution_count": 87,
   "id": "f71648b5",
   "metadata": {},
   "outputs": [
    {
     "data": {
      "text/html": [
       "<div>\n",
       "<style scoped>\n",
       "    .dataframe tbody tr th:only-of-type {\n",
       "        vertical-align: middle;\n",
       "    }\n",
       "\n",
       "    .dataframe tbody tr th {\n",
       "        vertical-align: top;\n",
       "    }\n",
       "\n",
       "    .dataframe thead th {\n",
       "        text-align: right;\n",
       "    }\n",
       "</style>\n",
       "<table border=\"1\" class=\"dataframe\">\n",
       "  <thead>\n",
       "    <tr style=\"text-align: right;\">\n",
       "      <th></th>\n",
       "      <th>instant</th>\n",
       "      <th>season</th>\n",
       "      <th>yr</th>\n",
       "      <th>mnth</th>\n",
       "      <th>holiday</th>\n",
       "      <th>weekday</th>\n",
       "      <th>workingday</th>\n",
       "      <th>weathersit</th>\n",
       "      <th>temp</th>\n",
       "      <th>atemp</th>\n",
       "      <th>hum</th>\n",
       "      <th>windspeed</th>\n",
       "      <th>casual</th>\n",
       "      <th>registered</th>\n",
       "      <th>cnt</th>\n",
       "    </tr>\n",
       "  </thead>\n",
       "  <tbody>\n",
       "    <tr>\n",
       "      <th>count</th>\n",
       "      <td>730.000000</td>\n",
       "      <td>730.000000</td>\n",
       "      <td>730.000000</td>\n",
       "      <td>730.000000</td>\n",
       "      <td>730.000000</td>\n",
       "      <td>730.000000</td>\n",
       "      <td>730.000000</td>\n",
       "      <td>730.000000</td>\n",
       "      <td>730.000000</td>\n",
       "      <td>730.000000</td>\n",
       "      <td>730.000000</td>\n",
       "      <td>730.000000</td>\n",
       "      <td>730.000000</td>\n",
       "      <td>730.000000</td>\n",
       "      <td>730.000000</td>\n",
       "    </tr>\n",
       "    <tr>\n",
       "      <th>mean</th>\n",
       "      <td>365.500000</td>\n",
       "      <td>2.498630</td>\n",
       "      <td>0.500000</td>\n",
       "      <td>6.526027</td>\n",
       "      <td>0.028767</td>\n",
       "      <td>2.997260</td>\n",
       "      <td>0.683562</td>\n",
       "      <td>1.394521</td>\n",
       "      <td>20.319259</td>\n",
       "      <td>23.726322</td>\n",
       "      <td>62.765175</td>\n",
       "      <td>12.763620</td>\n",
       "      <td>849.249315</td>\n",
       "      <td>3658.757534</td>\n",
       "      <td>4508.006849</td>\n",
       "    </tr>\n",
       "    <tr>\n",
       "      <th>std</th>\n",
       "      <td>210.877136</td>\n",
       "      <td>1.110184</td>\n",
       "      <td>0.500343</td>\n",
       "      <td>3.450215</td>\n",
       "      <td>0.167266</td>\n",
       "      <td>2.006161</td>\n",
       "      <td>0.465405</td>\n",
       "      <td>0.544807</td>\n",
       "      <td>7.506729</td>\n",
       "      <td>8.150308</td>\n",
       "      <td>14.237589</td>\n",
       "      <td>5.195841</td>\n",
       "      <td>686.479875</td>\n",
       "      <td>1559.758728</td>\n",
       "      <td>1936.011647</td>\n",
       "    </tr>\n",
       "    <tr>\n",
       "      <th>min</th>\n",
       "      <td>1.000000</td>\n",
       "      <td>1.000000</td>\n",
       "      <td>0.000000</td>\n",
       "      <td>1.000000</td>\n",
       "      <td>0.000000</td>\n",
       "      <td>0.000000</td>\n",
       "      <td>0.000000</td>\n",
       "      <td>1.000000</td>\n",
       "      <td>2.424346</td>\n",
       "      <td>3.953480</td>\n",
       "      <td>0.000000</td>\n",
       "      <td>1.500244</td>\n",
       "      <td>2.000000</td>\n",
       "      <td>20.000000</td>\n",
       "      <td>22.000000</td>\n",
       "    </tr>\n",
       "    <tr>\n",
       "      <th>25%</th>\n",
       "      <td>183.250000</td>\n",
       "      <td>2.000000</td>\n",
       "      <td>0.000000</td>\n",
       "      <td>4.000000</td>\n",
       "      <td>0.000000</td>\n",
       "      <td>1.000000</td>\n",
       "      <td>0.000000</td>\n",
       "      <td>1.000000</td>\n",
       "      <td>13.811885</td>\n",
       "      <td>16.889713</td>\n",
       "      <td>52.000000</td>\n",
       "      <td>9.041650</td>\n",
       "      <td>316.250000</td>\n",
       "      <td>2502.250000</td>\n",
       "      <td>3169.750000</td>\n",
       "    </tr>\n",
       "    <tr>\n",
       "      <th>50%</th>\n",
       "      <td>365.500000</td>\n",
       "      <td>3.000000</td>\n",
       "      <td>0.500000</td>\n",
       "      <td>7.000000</td>\n",
       "      <td>0.000000</td>\n",
       "      <td>3.000000</td>\n",
       "      <td>1.000000</td>\n",
       "      <td>1.000000</td>\n",
       "      <td>20.465826</td>\n",
       "      <td>24.368225</td>\n",
       "      <td>62.625000</td>\n",
       "      <td>12.125325</td>\n",
       "      <td>717.000000</td>\n",
       "      <td>3664.500000</td>\n",
       "      <td>4548.500000</td>\n",
       "    </tr>\n",
       "    <tr>\n",
       "      <th>75%</th>\n",
       "      <td>547.750000</td>\n",
       "      <td>3.000000</td>\n",
       "      <td>1.000000</td>\n",
       "      <td>10.000000</td>\n",
       "      <td>0.000000</td>\n",
       "      <td>5.000000</td>\n",
       "      <td>1.000000</td>\n",
       "      <td>2.000000</td>\n",
       "      <td>26.880615</td>\n",
       "      <td>30.445775</td>\n",
       "      <td>72.989575</td>\n",
       "      <td>15.625589</td>\n",
       "      <td>1096.500000</td>\n",
       "      <td>4783.250000</td>\n",
       "      <td>5966.000000</td>\n",
       "    </tr>\n",
       "    <tr>\n",
       "      <th>max</th>\n",
       "      <td>730.000000</td>\n",
       "      <td>4.000000</td>\n",
       "      <td>1.000000</td>\n",
       "      <td>12.000000</td>\n",
       "      <td>1.000000</td>\n",
       "      <td>6.000000</td>\n",
       "      <td>1.000000</td>\n",
       "      <td>3.000000</td>\n",
       "      <td>35.328347</td>\n",
       "      <td>42.044800</td>\n",
       "      <td>97.250000</td>\n",
       "      <td>34.000021</td>\n",
       "      <td>3410.000000</td>\n",
       "      <td>6946.000000</td>\n",
       "      <td>8714.000000</td>\n",
       "    </tr>\n",
       "  </tbody>\n",
       "</table>\n",
       "</div>"
      ],
      "text/plain": [
       "          instant      season          yr        mnth     holiday     weekday  \\\n",
       "count  730.000000  730.000000  730.000000  730.000000  730.000000  730.000000   \n",
       "mean   365.500000    2.498630    0.500000    6.526027    0.028767    2.997260   \n",
       "std    210.877136    1.110184    0.500343    3.450215    0.167266    2.006161   \n",
       "min      1.000000    1.000000    0.000000    1.000000    0.000000    0.000000   \n",
       "25%    183.250000    2.000000    0.000000    4.000000    0.000000    1.000000   \n",
       "50%    365.500000    3.000000    0.500000    7.000000    0.000000    3.000000   \n",
       "75%    547.750000    3.000000    1.000000   10.000000    0.000000    5.000000   \n",
       "max    730.000000    4.000000    1.000000   12.000000    1.000000    6.000000   \n",
       "\n",
       "       workingday  weathersit        temp       atemp         hum   windspeed  \\\n",
       "count  730.000000  730.000000  730.000000  730.000000  730.000000  730.000000   \n",
       "mean     0.683562    1.394521   20.319259   23.726322   62.765175   12.763620   \n",
       "std      0.465405    0.544807    7.506729    8.150308   14.237589    5.195841   \n",
       "min      0.000000    1.000000    2.424346    3.953480    0.000000    1.500244   \n",
       "25%      0.000000    1.000000   13.811885   16.889713   52.000000    9.041650   \n",
       "50%      1.000000    1.000000   20.465826   24.368225   62.625000   12.125325   \n",
       "75%      1.000000    2.000000   26.880615   30.445775   72.989575   15.625589   \n",
       "max      1.000000    3.000000   35.328347   42.044800   97.250000   34.000021   \n",
       "\n",
       "            casual   registered          cnt  \n",
       "count   730.000000   730.000000   730.000000  \n",
       "mean    849.249315  3658.757534  4508.006849  \n",
       "std     686.479875  1559.758728  1936.011647  \n",
       "min       2.000000    20.000000    22.000000  \n",
       "25%     316.250000  2502.250000  3169.750000  \n",
       "50%     717.000000  3664.500000  4548.500000  \n",
       "75%    1096.500000  4783.250000  5966.000000  \n",
       "max    3410.000000  6946.000000  8714.000000  "
      ]
     },
     "execution_count": 87,
     "metadata": {},
     "output_type": "execute_result"
    }
   ],
   "source": [
    "#Checking summary statistics\n",
    "df.describe()"
   ]
  },
  {
   "cell_type": "code",
   "execution_count": 88,
   "id": "815774d0",
   "metadata": {},
   "outputs": [
    {
     "name": "stdout",
     "output_type": "stream",
     "text": [
      "<class 'pandas.core.frame.DataFrame'>\n",
      "RangeIndex: 730 entries, 0 to 729\n",
      "Data columns (total 16 columns):\n",
      " #   Column      Non-Null Count  Dtype  \n",
      "---  ------      --------------  -----  \n",
      " 0   instant     730 non-null    int64  \n",
      " 1   dteday      730 non-null    object \n",
      " 2   season      730 non-null    int64  \n",
      " 3   yr          730 non-null    int64  \n",
      " 4   mnth        730 non-null    int64  \n",
      " 5   holiday     730 non-null    int64  \n",
      " 6   weekday     730 non-null    int64  \n",
      " 7   workingday  730 non-null    int64  \n",
      " 8   weathersit  730 non-null    int64  \n",
      " 9   temp        730 non-null    float64\n",
      " 10  atemp       730 non-null    float64\n",
      " 11  hum         730 non-null    float64\n",
      " 12  windspeed   730 non-null    float64\n",
      " 13  casual      730 non-null    int64  \n",
      " 14  registered  730 non-null    int64  \n",
      " 15  cnt         730 non-null    int64  \n",
      "dtypes: float64(4), int64(11), object(1)\n",
      "memory usage: 91.4+ KB\n"
     ]
    }
   ],
   "source": [
    "#Checking datatype and null values\n",
    "df.info()"
   ]
  },
  {
   "cell_type": "code",
   "execution_count": 89,
   "id": "860bb3ee",
   "metadata": {},
   "outputs": [
    {
     "data": {
      "text/plain": [
       "(730, 16)"
      ]
     },
     "execution_count": 89,
     "metadata": {},
     "output_type": "execute_result"
    }
   ],
   "source": [
    "#Checking size of dataset\n",
    "df.shape"
   ]
  },
  {
   "cell_type": "code",
   "execution_count": 90,
   "id": "7e21d7d7",
   "metadata": {},
   "outputs": [
    {
     "data": {
      "text/plain": [
       "instant       0\n",
       "dteday        0\n",
       "season        0\n",
       "yr            0\n",
       "mnth          0\n",
       "holiday       0\n",
       "weekday       0\n",
       "workingday    0\n",
       "weathersit    0\n",
       "temp          0\n",
       "atemp         0\n",
       "hum           0\n",
       "windspeed     0\n",
       "casual        0\n",
       "registered    0\n",
       "cnt           0\n",
       "dtype: int64"
      ]
     },
     "execution_count": 90,
     "metadata": {},
     "output_type": "execute_result"
    }
   ],
   "source": [
    "#Checking for any null values\n",
    "df.isnull().sum()\n"
   ]
  },
  {
   "cell_type": "code",
   "execution_count": 91,
   "id": "c20a1e1f",
   "metadata": {},
   "outputs": [
    {
     "data": {
      "text/plain": [
       "0"
      ]
     },
     "execution_count": 91,
     "metadata": {},
     "output_type": "execute_result"
    }
   ],
   "source": [
    "#Checking for duplicates\n",
    "df.duplicated().sum()"
   ]
  },
  {
   "cell_type": "markdown",
   "id": "1804005f",
   "metadata": {},
   "source": [
    "## Observation on raw Data\n",
    "\n",
    "- The size of the dataset is (730,16).\n",
    "- We have checked the datatype of all varibles out of which 'season' and 'weathersit' describes categoery but currently they are in 'int' form need to recode them as per data dictiniory.\n",
    "- There are no null values in datset and no duplicates found."
   ]
  },
  {
   "cell_type": "code",
   "execution_count": 92,
   "id": "7ee8dd4d",
   "metadata": {},
   "outputs": [],
   "source": [
    "#To strip spaces if any in column name\n",
    "df.columns = df.columns.str.strip()"
   ]
  },
  {
   "cell_type": "markdown",
   "id": "3b821cdb",
   "metadata": {},
   "source": [
    "## Data Preprocessing"
   ]
  },
  {
   "cell_type": "code",
   "execution_count": 93,
   "id": "b1e24f1f",
   "metadata": {},
   "outputs": [],
   "source": [
    "#Recoding as per Data Dictionary\n",
    "season_map={1:'spring', 2:'summer', 3:'fall', 4:'winter'}"
   ]
  },
  {
   "cell_type": "code",
   "execution_count": 94,
   "id": "f5e6bb1a",
   "metadata": {},
   "outputs": [],
   "source": [
    "df['season']=df['season'].map(season_map)"
   ]
  },
  {
   "cell_type": "code",
   "execution_count": 95,
   "id": "d13af025",
   "metadata": {},
   "outputs": [
    {
     "data": {
      "text/plain": [
       "fall      188\n",
       "summer    184\n",
       "spring    180\n",
       "winter    178\n",
       "Name: season, dtype: int64"
      ]
     },
     "execution_count": 95,
     "metadata": {},
     "output_type": "execute_result"
    }
   ],
   "source": [
    "#Checking value counts\n",
    "df['season'].value_counts()"
   ]
  },
  {
   "cell_type": "code",
   "execution_count": 96,
   "id": "4f59d514",
   "metadata": {},
   "outputs": [
    {
     "data": {
      "text/plain": [
       "dtype('O')"
      ]
     },
     "execution_count": 96,
     "metadata": {},
     "output_type": "execute_result"
    }
   ],
   "source": [
    "df['season'].dtype"
   ]
  },
  {
   "cell_type": "code",
   "execution_count": 97,
   "id": "d7f2d547",
   "metadata": {},
   "outputs": [],
   "source": [
    "#Recoding\n",
    "weather_map={1:'cloud',2:'Mist',3:'Light Snow',4:'Heavy Rain'}"
   ]
  },
  {
   "cell_type": "code",
   "execution_count": 98,
   "id": "44d4ad09",
   "metadata": {},
   "outputs": [],
   "source": [
    "df['weathersit']=df['weathersit'].map(weather_map)"
   ]
  },
  {
   "cell_type": "code",
   "execution_count": 99,
   "id": "2099805e",
   "metadata": {},
   "outputs": [],
   "source": [
    "#Converting Date column in suitable format for further analysis\n",
    "df['dteday']=pd.to_datetime(df['dteday'])"
   ]
  },
  {
   "cell_type": "code",
   "execution_count": 100,
   "id": "64a8acc0",
   "metadata": {},
   "outputs": [],
   "source": [
    "#Creating categorical varaible with year labels\n",
    "df['year']=df['dteday'].dt.year"
   ]
  },
  {
   "cell_type": "code",
   "execution_count": 101,
   "id": "5114967d",
   "metadata": {},
   "outputs": [
    {
     "data": {
      "text/html": [
       "<div>\n",
       "<style scoped>\n",
       "    .dataframe tbody tr th:only-of-type {\n",
       "        vertical-align: middle;\n",
       "    }\n",
       "\n",
       "    .dataframe tbody tr th {\n",
       "        vertical-align: top;\n",
       "    }\n",
       "\n",
       "    .dataframe thead th {\n",
       "        text-align: right;\n",
       "    }\n",
       "</style>\n",
       "<table border=\"1\" class=\"dataframe\">\n",
       "  <thead>\n",
       "    <tr style=\"text-align: right;\">\n",
       "      <th></th>\n",
       "      <th>instant</th>\n",
       "      <th>dteday</th>\n",
       "      <th>season</th>\n",
       "      <th>yr</th>\n",
       "      <th>mnth</th>\n",
       "      <th>holiday</th>\n",
       "      <th>weekday</th>\n",
       "      <th>workingday</th>\n",
       "      <th>weathersit</th>\n",
       "      <th>temp</th>\n",
       "      <th>atemp</th>\n",
       "      <th>hum</th>\n",
       "      <th>windspeed</th>\n",
       "      <th>casual</th>\n",
       "      <th>registered</th>\n",
       "      <th>cnt</th>\n",
       "      <th>year</th>\n",
       "    </tr>\n",
       "  </thead>\n",
       "  <tbody>\n",
       "    <tr>\n",
       "      <th>0</th>\n",
       "      <td>1</td>\n",
       "      <td>2018-01-01</td>\n",
       "      <td>spring</td>\n",
       "      <td>0</td>\n",
       "      <td>1</td>\n",
       "      <td>0</td>\n",
       "      <td>6</td>\n",
       "      <td>0</td>\n",
       "      <td>Mist</td>\n",
       "      <td>14.110847</td>\n",
       "      <td>18.18125</td>\n",
       "      <td>80.5833</td>\n",
       "      <td>10.749882</td>\n",
       "      <td>331</td>\n",
       "      <td>654</td>\n",
       "      <td>985</td>\n",
       "      <td>2018</td>\n",
       "    </tr>\n",
       "    <tr>\n",
       "      <th>1</th>\n",
       "      <td>2</td>\n",
       "      <td>2018-02-01</td>\n",
       "      <td>spring</td>\n",
       "      <td>0</td>\n",
       "      <td>1</td>\n",
       "      <td>0</td>\n",
       "      <td>0</td>\n",
       "      <td>0</td>\n",
       "      <td>Mist</td>\n",
       "      <td>14.902598</td>\n",
       "      <td>17.68695</td>\n",
       "      <td>69.6087</td>\n",
       "      <td>16.652113</td>\n",
       "      <td>131</td>\n",
       "      <td>670</td>\n",
       "      <td>801</td>\n",
       "      <td>2018</td>\n",
       "    </tr>\n",
       "    <tr>\n",
       "      <th>2</th>\n",
       "      <td>3</td>\n",
       "      <td>2018-03-01</td>\n",
       "      <td>spring</td>\n",
       "      <td>0</td>\n",
       "      <td>1</td>\n",
       "      <td>0</td>\n",
       "      <td>1</td>\n",
       "      <td>1</td>\n",
       "      <td>cloud</td>\n",
       "      <td>8.050924</td>\n",
       "      <td>9.47025</td>\n",
       "      <td>43.7273</td>\n",
       "      <td>16.636703</td>\n",
       "      <td>120</td>\n",
       "      <td>1229</td>\n",
       "      <td>1349</td>\n",
       "      <td>2018</td>\n",
       "    </tr>\n",
       "    <tr>\n",
       "      <th>3</th>\n",
       "      <td>4</td>\n",
       "      <td>2018-04-01</td>\n",
       "      <td>spring</td>\n",
       "      <td>0</td>\n",
       "      <td>1</td>\n",
       "      <td>0</td>\n",
       "      <td>2</td>\n",
       "      <td>1</td>\n",
       "      <td>cloud</td>\n",
       "      <td>8.200000</td>\n",
       "      <td>10.60610</td>\n",
       "      <td>59.0435</td>\n",
       "      <td>10.739832</td>\n",
       "      <td>108</td>\n",
       "      <td>1454</td>\n",
       "      <td>1562</td>\n",
       "      <td>2018</td>\n",
       "    </tr>\n",
       "    <tr>\n",
       "      <th>4</th>\n",
       "      <td>5</td>\n",
       "      <td>2018-05-01</td>\n",
       "      <td>spring</td>\n",
       "      <td>0</td>\n",
       "      <td>1</td>\n",
       "      <td>0</td>\n",
       "      <td>3</td>\n",
       "      <td>1</td>\n",
       "      <td>cloud</td>\n",
       "      <td>9.305237</td>\n",
       "      <td>11.46350</td>\n",
       "      <td>43.6957</td>\n",
       "      <td>12.522300</td>\n",
       "      <td>82</td>\n",
       "      <td>1518</td>\n",
       "      <td>1600</td>\n",
       "      <td>2018</td>\n",
       "    </tr>\n",
       "  </tbody>\n",
       "</table>\n",
       "</div>"
      ],
      "text/plain": [
       "   instant     dteday  season  yr  mnth  holiday  weekday  workingday  \\\n",
       "0        1 2018-01-01  spring   0     1        0        6           0   \n",
       "1        2 2018-02-01  spring   0     1        0        0           0   \n",
       "2        3 2018-03-01  spring   0     1        0        1           1   \n",
       "3        4 2018-04-01  spring   0     1        0        2           1   \n",
       "4        5 2018-05-01  spring   0     1        0        3           1   \n",
       "\n",
       "  weathersit       temp     atemp      hum  windspeed  casual  registered  \\\n",
       "0       Mist  14.110847  18.18125  80.5833  10.749882     331         654   \n",
       "1       Mist  14.902598  17.68695  69.6087  16.652113     131         670   \n",
       "2      cloud   8.050924   9.47025  43.7273  16.636703     120        1229   \n",
       "3      cloud   8.200000  10.60610  59.0435  10.739832     108        1454   \n",
       "4      cloud   9.305237  11.46350  43.6957  12.522300      82        1518   \n",
       "\n",
       "    cnt  year  \n",
       "0   985  2018  \n",
       "1   801  2018  \n",
       "2  1349  2018  \n",
       "3  1562  2018  \n",
       "4  1600  2018  "
      ]
     },
     "execution_count": 101,
     "metadata": {},
     "output_type": "execute_result"
    }
   ],
   "source": [
    "#Checking data after all preprocessing steps\n",
    "df.head()"
   ]
  },
  {
   "cell_type": "markdown",
   "id": "62da9723",
   "metadata": {},
   "source": [
    "## EDA\n",
    "### Univaraite and Bivaraite Analysis"
   ]
  },
  {
   "cell_type": "code",
   "execution_count": 102,
   "id": "7722048d",
   "metadata": {},
   "outputs": [
    {
     "data": {
      "image/png": "[encoded data removed]",
      "text/plain": [
       "<Figure size 432x288 with 1 Axes>"
      ]
     },
     "metadata": {
      "needs_background": "light"
     },
     "output_type": "display_data"
    }
   ],
   "source": [
    "sns.barplot(x='year',y='cnt',data=df)\n",
    "plt.title('Year wise count of rental bikes')\n",
    "plt.show()\n",
    "\n"
   ]
  },
  {
   "cell_type": "code",
   "execution_count": 103,
   "id": "c6b324e6",
   "metadata": {},
   "outputs": [],
   "source": [
    "monthly_count=df.groupby('mnth')['cnt'].sum().reset_index()"
   ]
  },
  {
   "cell_type": "code",
   "execution_count": 104,
   "id": "256ba400",
   "metadata": {},
   "outputs": [],
   "source": [
    "order=monthly_count.sort_values(by='cnt')['mnth']"
   ]
  },
  {
   "cell_type": "code",
   "execution_count": 105,
   "id": "7c107084",
   "metadata": {},
   "outputs": [
    {
     "data": {
      "image/png": "[encoded data removed]",
      "text/plain": [
       "<Figure size 432x288 with 1 Axes>"
      ]
     },
     "metadata": {
      "needs_background": "light"
     },
     "output_type": "display_data"
    }
   ],
   "source": [
    "\n",
    "sns.barplot(x='mnth',y='cnt',data=monthly_count,order=order)\n",
    "plt.title('Month wise count of rental bikes')\n",
    "plt.show()\n"
   ]
  },
  {
   "cell_type": "code",
   "execution_count": 106,
   "id": "8810f5a9",
   "metadata": {},
   "outputs": [
    {
     "data": {
      "image/png": "[encoded data removed]",
      "text/plain": [
       "<Figure size 432x288 with 1 Axes>"
      ]
     },
     "metadata": {
      "needs_background": "light"
     },
     "output_type": "display_data"
    }
   ],
   "source": [
    "sns.barplot(x='weathersit',y='cnt',data=df)\n",
    "plt.title('weathersit wise count of rental bikes')\n",
    "plt.show()\n"
   ]
  },
  {
   "cell_type": "code",
   "execution_count": null,
   "id": "90edd63f",
   "metadata": {},
   "outputs": [],
   "source": [
    "sns.barplot(x='season',y='cnt',data=df)\n",
    "plt.title('Season wise count of rental bikes')\n",
    "plt.show()\n"
   ]
  },
  {
   "cell_type": "code",
   "execution_count": 24,
   "id": "536dcf55",
   "metadata": {},
   "outputs": [
    {
     "data": {
      "image/png": "[encoded data removed]",
      "text/plain": [
       "<Figure size 432x288 with 1 Axes>"
      ]
     },
     "metadata": {
      "needs_background": "light"
     },
     "output_type": "display_data"
    }
   ],
   "source": [
    "sns.boxplot(x='holiday',y='cnt',data=df)\n",
    "plt.title('Holiday Vs Count of rental bikes')\n",
    "plt.show()\n"
   ]
  },
  {
   "cell_type": "code",
   "execution_count": 25,
   "id": "a00b6d40",
   "metadata": {},
   "outputs": [
    {
     "data": {
      "image/png": "[encoded data removed]",
      "text/plain": [
       "<Figure size 432x288 with 1 Axes>"
      ]
     },
     "metadata": {
      "needs_background": "light"
     },
     "output_type": "display_data"
    }
   ],
   "source": [
    "sns.boxplot(x='weekday',y='cnt',data=df)\n",
    "plt.title('Holiday Vs Count of rental bikes')\n",
    "plt.show()\n"
   ]
  },
  {
   "cell_type": "code",
   "execution_count": 26,
   "id": "70a26224",
   "metadata": {},
   "outputs": [
    {
     "data": {
      "image/png": "[encoded data removed]",
      "text/plain": [
       "<Figure size 432x288 with 1 Axes>"
      ]
     },
     "metadata": {
      "needs_background": "light"
     },
     "output_type": "display_data"
    }
   ],
   "source": [
    "sns.scatterplot(x='windspeed',y='cnt',data=df)\n",
    "plt.title('windspeed Vs Count of rental bikes')\n",
    "plt.show()\n"
   ]
  },
  {
   "cell_type": "code",
   "execution_count": 27,
   "id": "073f0cc4",
   "metadata": {},
   "outputs": [
    {
     "data": {
      "image/png": "[encoded data removed]",
      "text/plain": [
       "<Figure size 432x288 with 1 Axes>"
      ]
     },
     "metadata": {
      "needs_background": "light"
     },
     "output_type": "display_data"
    }
   ],
   "source": [
    "sns.scatterplot(x='atemp',y='cnt',hue='hum',data=df,palette='coolwarm',size='hum',sizes=(50,50))\n",
    "plt.title('Feeling Tempreture and Humidity Vs Count of rental bikes')\n",
    "plt.show()\n"
   ]
  },
  {
   "cell_type": "code",
   "execution_count": 28,
   "id": "5ef35534",
   "metadata": {},
   "outputs": [],
   "source": [
    "# We are dropping below columns as they don't help us identifying factor affecting the bike rental\n",
    "\n",
    "df.drop(['instant','dteday','year','casual','registered'],inplace=True,axis=1)"
   ]
  },
  {
   "cell_type": "code",
   "execution_count": 29,
   "id": "3e7e8f2d",
   "metadata": {},
   "outputs": [
    {
     "data": {
      "image/png": "[encoded data removed]",
      "text/plain": [
       "<Figure size 1080x864 with 2 Axes>"
      ]
     },
     "metadata": {
      "needs_background": "light"
     },
     "output_type": "display_data"
    }
   ],
   "source": [
    "plt.figure(figsize=(15,12))\n",
    "corr=df.corr()\n",
    "sns.heatmap(data=corr,annot=True,cmap='YlGnBu')\n",
    "plt.show()"
   ]
  },
  {
   "cell_type": "code",
   "execution_count": 30,
   "id": "152c26ad",
   "metadata": {},
   "outputs": [],
   "source": [
    "x_vars=['temp','atemp','hum','windspeed']"
   ]
  },
  {
   "cell_type": "code",
   "execution_count": 31,
   "id": "9e2410ba",
   "metadata": {},
   "outputs": [
    {
     "data": {
      "image/png": "[encoded data removed]",
      "text/plain": [
       "<Figure size 781.5x180 with 4 Axes>"
      ]
     },
     "metadata": {
      "needs_background": "light"
     },
     "output_type": "display_data"
    }
   ],
   "source": [
    "target = 'cnt'\n",
    "x_vars = ['temp', 'atemp', 'hum', 'windspeed']\n",
    "\n",
    "# Create a pairplot for the specified input variables against the target variable\n",
    "sns.pairplot(df, y_vars=[target], x_vars=x_vars, hue=target)\n",
    "plt.show()"
   ]
  },
  {
   "cell_type": "markdown",
   "id": "e3e923f6",
   "metadata": {},
   "source": [
    "## Key takeaways from EDA\n",
    "\n",
    "- In 2019, we observe a higher number of bike rentals.\n",
    "- From June to September, there is an increase in bike rentals.\n",
    "- The demand for bikes is higher in the fall and summer seasons compared to other seasons.\n",
    "- The average number of bikes rented on holidays is higher than on weekdays.\n",
    "- The wind speed scatter plot indicates that most bikes are rented when the wind speed is between 5-20 units, and the tendency to rent bikes decreases as wind speed increases.\n",
    "- As the temperature increases from 5 to 30 degrees Celsius, there is a consistent increase in the number of bikes rented. However, when the temperature exceeds 35 degrees Celsius, there is a decline in bike rentals.\n",
    "- Heatmap shows that year and tempreature are positively corelated with cnt\n"
   ]
  },
  {
   "cell_type": "markdown",
   "id": "19c9dc63",
   "metadata": {},
   "source": [
    "### Encoding of Categorical Varaible"
   ]
  },
  {
   "cell_type": "code",
   "execution_count": 32,
   "id": "2171a234",
   "metadata": {},
   "outputs": [],
   "source": [
    "df=pd.get_dummies(df,columns=['weekday','season','weathersit','mnth'],drop_first=True)"
   ]
  },
  {
   "cell_type": "code",
   "execution_count": 33,
   "id": "6bd4c312",
   "metadata": {},
   "outputs": [
    {
     "data": {
      "text/plain": [
       "Index(['yr', 'holiday', 'workingday', 'temp', 'atemp', 'hum', 'windspeed',\n",
       "       'cnt', 'weekday_1', 'weekday_2', 'weekday_3', 'weekday_4', 'weekday_5',\n",
       "       'weekday_6', 'season_spring', 'season_summer', 'season_winter',\n",
       "       'weathersit_Mist', 'weathersit_cloud', 'mnth_2', 'mnth_3', 'mnth_4',\n",
       "       'mnth_5', 'mnth_6', 'mnth_7', 'mnth_8', 'mnth_9', 'mnth_10', 'mnth_11',\n",
       "       'mnth_12'],\n",
       "      dtype='object')"
      ]
     },
     "execution_count": 33,
     "metadata": {},
     "output_type": "execute_result"
    }
   ],
   "source": [
    "df.columns"
   ]
  },
  {
   "cell_type": "code",
   "execution_count": 34,
   "id": "5c235658",
   "metadata": {},
   "outputs": [],
   "source": [
    "#Splitting data in training and testing\n",
    "\n",
    "from sklearn.model_selection import train_test_split\n",
    "\n",
    "df_train,df_test=train_test_split(df,train_size=0.7,test_size=0.3,random_state=100)"
   ]
  },
  {
   "cell_type": "markdown",
   "id": "3a0d7233",
   "metadata": {},
   "source": [
    "### Scaling of varaible"
   ]
  },
  {
   "cell_type": "code",
   "execution_count": 35,
   "id": "ab8db428",
   "metadata": {},
   "outputs": [],
   "source": [
    "#Scaling data using minmax scaler\n",
    "\n",
    "from sklearn.preprocessing import MinMaxScaler\n",
    "scaler=MinMaxScaler()"
   ]
  },
  {
   "cell_type": "code",
   "execution_count": 36,
   "id": "f46ba6e9",
   "metadata": {},
   "outputs": [
    {
     "data": {
      "text/plain": [
       "Index(['yr', 'holiday', 'workingday', 'temp', 'atemp', 'hum', 'windspeed',\n",
       "       'cnt', 'weekday_1', 'weekday_2', 'weekday_3', 'weekday_4', 'weekday_5',\n",
       "       'weekday_6', 'season_spring', 'season_summer', 'season_winter',\n",
       "       'weathersit_Mist', 'weathersit_cloud', 'mnth_2', 'mnth_3', 'mnth_4',\n",
       "       'mnth_5', 'mnth_6', 'mnth_7', 'mnth_8', 'mnth_9', 'mnth_10', 'mnth_11',\n",
       "       'mnth_12'],\n",
       "      dtype='object')"
      ]
     },
     "execution_count": 36,
     "metadata": {},
     "output_type": "execute_result"
    }
   ],
   "source": [
    "df.columns"
   ]
  },
  {
   "cell_type": "code",
   "execution_count": 37,
   "id": "6aab0fdf",
   "metadata": {},
   "outputs": [],
   "source": [
    "#defining numerical varaible which are to be scaled\n",
    "\n",
    "num_var=['temp','atemp','hum','windspeed','cnt']"
   ]
  },
  {
   "cell_type": "code",
   "execution_count": 38,
   "id": "f53095b6",
   "metadata": {},
   "outputs": [],
   "source": [
    "df_train[num_var]=scaler.fit_transform(df_train[num_var])"
   ]
  },
  {
   "cell_type": "code",
   "execution_count": 39,
   "id": "f693b1d2",
   "metadata": {},
   "outputs": [
    {
     "data": {
      "text/html": [
       "<div>\n",
       "<style scoped>\n",
       "    .dataframe tbody tr th:only-of-type {\n",
       "        vertical-align: middle;\n",
       "    }\n",
       "\n",
       "    .dataframe tbody tr th {\n",
       "        vertical-align: top;\n",
       "    }\n",
       "\n",
       "    .dataframe thead th {\n",
       "        text-align: right;\n",
       "    }\n",
       "</style>\n",
       "<table border=\"1\" class=\"dataframe\">\n",
       "  <thead>\n",
       "    <tr style=\"text-align: right;\">\n",
       "      <th></th>\n",
       "      <th>yr</th>\n",
       "      <th>holiday</th>\n",
       "      <th>workingday</th>\n",
       "      <th>temp</th>\n",
       "      <th>atemp</th>\n",
       "      <th>hum</th>\n",
       "      <th>windspeed</th>\n",
       "      <th>cnt</th>\n",
       "      <th>weekday_1</th>\n",
       "      <th>weekday_2</th>\n",
       "      <th>...</th>\n",
       "      <th>mnth_3</th>\n",
       "      <th>mnth_4</th>\n",
       "      <th>mnth_5</th>\n",
       "      <th>mnth_6</th>\n",
       "      <th>mnth_7</th>\n",
       "      <th>mnth_8</th>\n",
       "      <th>mnth_9</th>\n",
       "      <th>mnth_10</th>\n",
       "      <th>mnth_11</th>\n",
       "      <th>mnth_12</th>\n",
       "    </tr>\n",
       "  </thead>\n",
       "  <tbody>\n",
       "    <tr>\n",
       "      <th>653</th>\n",
       "      <td>1</td>\n",
       "      <td>0</td>\n",
       "      <td>1</td>\n",
       "      <td>0.509887</td>\n",
       "      <td>0.501133</td>\n",
       "      <td>0.575354</td>\n",
       "      <td>0.300794</td>\n",
       "      <td>0.864243</td>\n",
       "      <td>0</td>\n",
       "      <td>1</td>\n",
       "      <td>...</td>\n",
       "      <td>0</td>\n",
       "      <td>0</td>\n",
       "      <td>0</td>\n",
       "      <td>0</td>\n",
       "      <td>0</td>\n",
       "      <td>0</td>\n",
       "      <td>0</td>\n",
       "      <td>1</td>\n",
       "      <td>0</td>\n",
       "      <td>0</td>\n",
       "    </tr>\n",
       "    <tr>\n",
       "      <th>576</th>\n",
       "      <td>1</td>\n",
       "      <td>0</td>\n",
       "      <td>1</td>\n",
       "      <td>0.815169</td>\n",
       "      <td>0.766351</td>\n",
       "      <td>0.725633</td>\n",
       "      <td>0.264686</td>\n",
       "      <td>0.827658</td>\n",
       "      <td>0</td>\n",
       "      <td>1</td>\n",
       "      <td>...</td>\n",
       "      <td>0</td>\n",
       "      <td>0</td>\n",
       "      <td>0</td>\n",
       "      <td>0</td>\n",
       "      <td>1</td>\n",
       "      <td>0</td>\n",
       "      <td>0</td>\n",
       "      <td>0</td>\n",
       "      <td>0</td>\n",
       "      <td>0</td>\n",
       "    </tr>\n",
       "    <tr>\n",
       "      <th>426</th>\n",
       "      <td>1</td>\n",
       "      <td>0</td>\n",
       "      <td>0</td>\n",
       "      <td>0.442393</td>\n",
       "      <td>0.438975</td>\n",
       "      <td>0.640189</td>\n",
       "      <td>0.255342</td>\n",
       "      <td>0.465255</td>\n",
       "      <td>0</td>\n",
       "      <td>0</td>\n",
       "      <td>...</td>\n",
       "      <td>1</td>\n",
       "      <td>0</td>\n",
       "      <td>0</td>\n",
       "      <td>0</td>\n",
       "      <td>0</td>\n",
       "      <td>0</td>\n",
       "      <td>0</td>\n",
       "      <td>0</td>\n",
       "      <td>0</td>\n",
       "      <td>0</td>\n",
       "    </tr>\n",
       "    <tr>\n",
       "      <th>728</th>\n",
       "      <td>1</td>\n",
       "      <td>0</td>\n",
       "      <td>0</td>\n",
       "      <td>0.245101</td>\n",
       "      <td>0.200348</td>\n",
       "      <td>0.498067</td>\n",
       "      <td>0.663106</td>\n",
       "      <td>0.204096</td>\n",
       "      <td>0</td>\n",
       "      <td>0</td>\n",
       "      <td>...</td>\n",
       "      <td>0</td>\n",
       "      <td>0</td>\n",
       "      <td>0</td>\n",
       "      <td>0</td>\n",
       "      <td>0</td>\n",
       "      <td>0</td>\n",
       "      <td>0</td>\n",
       "      <td>0</td>\n",
       "      <td>0</td>\n",
       "      <td>1</td>\n",
       "    </tr>\n",
       "    <tr>\n",
       "      <th>482</th>\n",
       "      <td>1</td>\n",
       "      <td>0</td>\n",
       "      <td>0</td>\n",
       "      <td>0.395666</td>\n",
       "      <td>0.391735</td>\n",
       "      <td>0.504508</td>\n",
       "      <td>0.188475</td>\n",
       "      <td>0.482973</td>\n",
       "      <td>0</td>\n",
       "      <td>0</td>\n",
       "      <td>...</td>\n",
       "      <td>0</td>\n",
       "      <td>1</td>\n",
       "      <td>0</td>\n",
       "      <td>0</td>\n",
       "      <td>0</td>\n",
       "      <td>0</td>\n",
       "      <td>0</td>\n",
       "      <td>0</td>\n",
       "      <td>0</td>\n",
       "      <td>0</td>\n",
       "    </tr>\n",
       "  </tbody>\n",
       "</table>\n",
       "<p>5 rows × 30 columns</p>\n",
       "</div>"
      ],
      "text/plain": [
       "     yr  holiday  workingday      temp     atemp       hum  windspeed  \\\n",
       "653   1        0           1  0.509887  0.501133  0.575354   0.300794   \n",
       "576   1        0           1  0.815169  0.766351  0.725633   0.264686   \n",
       "426   1        0           0  0.442393  0.438975  0.640189   0.255342   \n",
       "728   1        0           0  0.245101  0.200348  0.498067   0.663106   \n",
       "482   1        0           0  0.395666  0.391735  0.504508   0.188475   \n",
       "\n",
       "          cnt  weekday_1  weekday_2  ...  mnth_3  mnth_4  mnth_5  mnth_6  \\\n",
       "653  0.864243          0          1  ...       0       0       0       0   \n",
       "576  0.827658          0          1  ...       0       0       0       0   \n",
       "426  0.465255          0          0  ...       1       0       0       0   \n",
       "728  0.204096          0          0  ...       0       0       0       0   \n",
       "482  0.482973          0          0  ...       0       1       0       0   \n",
       "\n",
       "     mnth_7  mnth_8  mnth_9  mnth_10  mnth_11  mnth_12  \n",
       "653       0       0       0        1        0        0  \n",
       "576       1       0       0        0        0        0  \n",
       "426       0       0       0        0        0        0  \n",
       "728       0       0       0        0        0        1  \n",
       "482       0       0       0        0        0        0  \n",
       "\n",
       "[5 rows x 30 columns]"
      ]
     },
     "execution_count": 39,
     "metadata": {},
     "output_type": "execute_result"
    }
   ],
   "source": [
    "df_train.head()"
   ]
  },
  {
   "cell_type": "code",
   "execution_count": 40,
   "id": "3932faab",
   "metadata": {},
   "outputs": [],
   "source": [
    "#Dropping Target column\n",
    "\n",
    "X_train=df_train.drop('cnt',axis=1)"
   ]
  },
  {
   "cell_type": "code",
   "execution_count": 41,
   "id": "65615bb6",
   "metadata": {},
   "outputs": [],
   "source": [
    "y_train=df_train.pop('cnt')"
   ]
  },
  {
   "cell_type": "markdown",
   "id": "36faee0d",
   "metadata": {},
   "source": [
    "## Model Building\n",
    "\n",
    "We are building our initial model using the sklearn library with the Recursive Feature Elimination (RFE) method to identify the most important attributes. After determining the important attributes, we will drop the less important ones. To gain detailed statistical insights, we will use the Ordinary Least Squares (OLS) method to check the significance of the remaining attributes."
   ]
  },
  {
   "cell_type": "code",
   "execution_count": 42,
   "id": "caef7dc7",
   "metadata": {},
   "outputs": [],
   "source": [
    "# Importing RFE and LinearRegression\n",
    "from sklearn.feature_selection import RFE\n",
    "from sklearn.linear_model import LinearRegression"
   ]
  },
  {
   "cell_type": "code",
   "execution_count": 43,
   "id": "89731efc",
   "metadata": {},
   "outputs": [
    {
     "data": {
      "text/html": [
       "<style>#sk-container-id-1 {color: black;background-color: white;}#sk-container-id-1 pre{padding: 0;}#sk-container-id-1 div.sk-toggleable {background-color: white;}#sk-container-id-1 label.sk-toggleable__label {cursor: pointer;display: block;width: 100%;margin-bottom: 0;padding: 0.3em;box-sizing: border-box;text-align: center;}#sk-container-id-1 label.sk-toggleable__label-arrow:before {content: \"▸\";float: left;margin-right: 0.25em;color: #696969;}#sk-container-id-1 label.sk-toggleable__label-arrow:hover:before {color: black;}#sk-container-id-1 div.sk-estimator:hover label.sk-toggleable__label-arrow:before {color: black;}#sk-container-id-1 div.sk-toggleable__content {max-height: 0;max-width: 0;overflow: hidden;text-align: left;background-color: #f0f8ff;}#sk-container-id-1 div.sk-toggleable__content pre {margin: 0.2em;color: black;border-radius: 0.25em;background-color: #f0f8ff;}#sk-container-id-1 input.sk-toggleable__control:checked~div.sk-toggleable__content {max-height: 200px;max-width: 100%;overflow: auto;}#sk-container-id-1 input.sk-toggleable__control:checked~label.sk-toggleable__label-arrow:before {content: \"▾\";}#sk-container-id-1 div.sk-estimator input.sk-toggleable__control:checked~label.sk-toggleable__label {background-color: #d4ebff;}#sk-container-id-1 div.sk-label input.sk-toggleable__control:checked~label.sk-toggleable__label {background-color: #d4ebff;}#sk-container-id-1 input.sk-hidden--visually {border: 0;clip: rect(1px 1px 1px 1px);clip: rect(1px, 1px, 1px, 1px);height: 1px;margin: -1px;overflow: hidden;padding: 0;position: absolute;width: 1px;}#sk-container-id-1 div.sk-estimator {font-family: monospace;background-color: #f0f8ff;border: 1px dotted black;border-radius: 0.25em;box-sizing: border-box;margin-bottom: 0.5em;}#sk-container-id-1 div.sk-estimator:hover {background-color: #d4ebff;}#sk-container-id-1 div.sk-parallel-item::after {content: \"\";width: 100%;border-bottom: 1px solid gray;flex-grow: 1;}#sk-container-id-1 div.sk-label:hover label.sk-toggleable__label {background-color: #d4ebff;}#sk-container-id-1 div.sk-serial::before {content: \"\";position: absolute;border-left: 1px solid gray;box-sizing: border-box;top: 0;bottom: 0;left: 50%;z-index: 0;}#sk-container-id-1 div.sk-serial {display: flex;flex-direction: column;align-items: center;background-color: white;padding-right: 0.2em;padding-left: 0.2em;position: relative;}#sk-container-id-1 div.sk-item {position: relative;z-index: 1;}#sk-container-id-1 div.sk-parallel {display: flex;align-items: stretch;justify-content: center;background-color: white;position: relative;}#sk-container-id-1 div.sk-item::before, #sk-container-id-1 div.sk-parallel-item::before {content: \"\";position: absolute;border-left: 1px solid gray;box-sizing: border-box;top: 0;bottom: 0;left: 50%;z-index: -1;}#sk-container-id-1 div.sk-parallel-item {display: flex;flex-direction: column;z-index: 1;position: relative;background-color: white;}#sk-container-id-1 div.sk-parallel-item:first-child::after {align-self: flex-end;width: 50%;}#sk-container-id-1 div.sk-parallel-item:last-child::after {align-self: flex-start;width: 50%;}#sk-container-id-1 div.sk-parallel-item:only-child::after {width: 0;}#sk-container-id-1 div.sk-dashed-wrapped {border: 1px dashed gray;margin: 0 0.4em 0.5em 0.4em;box-sizing: border-box;padding-bottom: 0.4em;background-color: white;}#sk-container-id-1 div.sk-label label {font-family: monospace;font-weight: bold;display: inline-block;line-height: 1.2em;}#sk-container-id-1 div.sk-label-container {text-align: center;}#sk-container-id-1 div.sk-container {/* jupyter's `normalize.less` sets `[hidden] { display: none; }` but bootstrap.min.css set `[hidden] { display: none !important; }` so we also need the `!important` here to be able to override the default hidden behavior on the sphinx rendered scikit-learn.org. See: https://github.com/scikit-learn/scikit-learn/issues/21755 */display: inline-block !important;position: relative;}#sk-container-id-1 div.sk-text-repr-fallback {display: none;}</style><div id=\"sk-container-id-1\" class=\"sk-top-container\"><div class=\"sk-text-repr-fallback\"><pre>LinearRegression()</pre><b>In a Jupyter environment, please rerun this cell to show the HTML representation or trust the notebook. <br />On GitHub, the HTML representation is unable to render, please try loading this page with nbviewer.org.</b></div><div class=\"sk-container\" hidden><div class=\"sk-item\"><div class=\"sk-estimator sk-toggleable\"><input class=\"sk-toggleable__control sk-hidden--visually\" id=\"sk-estimator-id-1\" type=\"checkbox\" checked><label for=\"sk-estimator-id-1\" class=\"sk-toggleable__label sk-toggleable__label-arrow\">LinearRegression</label><div class=\"sk-toggleable__content\"><pre>LinearRegression()</pre></div></div></div></div></div>"
      ],
      "text/plain": [
       "LinearRegression()"
      ]
     },
     "execution_count": 43,
     "metadata": {},
     "output_type": "execute_result"
    }
   ],
   "source": [
    "lm=LinearRegression()\n",
    "lm.fit(X_train,y_train)\n",
    "\n"
   ]
  },
  {
   "cell_type": "code",
   "execution_count": 44,
   "id": "c84aed36",
   "metadata": {},
   "outputs": [],
   "source": [
    "rfe = RFE(lm,n_features_to_select=30)\n",
    "rfe = rfe.fit(X_train, y_train)"
   ]
  },
  {
   "cell_type": "code",
   "execution_count": 45,
   "id": "c921fc6a",
   "metadata": {},
   "outputs": [
    {
     "data": {
      "text/plain": [
       "[('yr', True, 1),\n",
       " ('holiday', True, 1),\n",
       " ('workingday', True, 1),\n",
       " ('temp', True, 1),\n",
       " ('atemp', True, 1),\n",
       " ('hum', True, 1),\n",
       " ('windspeed', True, 1),\n",
       " ('weekday_1', True, 1),\n",
       " ('weekday_2', True, 1),\n",
       " ('weekday_3', True, 1),\n",
       " ('weekday_4', True, 1),\n",
       " ('weekday_5', True, 1),\n",
       " ('weekday_6', True, 1),\n",
       " ('season_spring', True, 1),\n",
       " ('season_summer', True, 1),\n",
       " ('season_winter', True, 1),\n",
       " ('weathersit_Mist', True, 1),\n",
       " ('weathersit_cloud', True, 1),\n",
       " ('mnth_2', True, 1),\n",
       " ('mnth_3', True, 1),\n",
       " ('mnth_4', True, 1),\n",
       " ('mnth_5', True, 1),\n",
       " ('mnth_6', True, 1),\n",
       " ('mnth_7', True, 1),\n",
       " ('mnth_8', True, 1),\n",
       " ('mnth_9', True, 1),\n",
       " ('mnth_10', True, 1),\n",
       " ('mnth_11', True, 1),\n",
       " ('mnth_12', True, 1)]"
      ]
     },
     "execution_count": 45,
     "metadata": {},
     "output_type": "execute_result"
    }
   ],
   "source": [
    "list(zip(X_train.columns,rfe.support_,rfe.ranking_))"
   ]
  },
  {
   "cell_type": "code",
   "execution_count": 46,
   "id": "06c4dc1a",
   "metadata": {},
   "outputs": [
    {
     "data": {
      "text/plain": [
       "Index([], dtype='object')"
      ]
     },
     "execution_count": 46,
     "metadata": {},
     "output_type": "execute_result"
    }
   ],
   "source": [
    "X_train.columns[~rfe.support_]"
   ]
  },
  {
   "cell_type": "code",
   "execution_count": 47,
   "id": "d83be3c9",
   "metadata": {},
   "outputs": [],
   "source": [
    "col=X_train.columns[rfe.support_]"
   ]
  },
  {
   "cell_type": "code",
   "execution_count": 48,
   "id": "1869ef7f",
   "metadata": {},
   "outputs": [],
   "source": [
    "X_train_rfe=X_train[col]"
   ]
  },
  {
   "cell_type": "code",
   "execution_count": 49,
   "id": "c99e2594",
   "metadata": {},
   "outputs": [
    {
     "data": {
      "text/plain": [
       "Index(['yr', 'holiday', 'workingday', 'temp', 'atemp', 'hum', 'windspeed',\n",
       "       'weekday_1', 'weekday_2', 'weekday_3', 'weekday_4', 'weekday_5',\n",
       "       'weekday_6', 'season_spring', 'season_summer', 'season_winter',\n",
       "       'weathersit_Mist', 'weathersit_cloud', 'mnth_2', 'mnth_3', 'mnth_4',\n",
       "       'mnth_5', 'mnth_6', 'mnth_7', 'mnth_8', 'mnth_9', 'mnth_10', 'mnth_11',\n",
       "       'mnth_12'],\n",
       "      dtype='object')"
      ]
     },
     "execution_count": 49,
     "metadata": {},
     "output_type": "execute_result"
    }
   ],
   "source": [
    "X_train_rfe.columns"
   ]
  },
  {
   "cell_type": "markdown",
   "id": "550d0c0f",
   "metadata": {},
   "source": [
    "#### There are no columns with values as false in RFE so we can proceed with OLS method"
   ]
  },
  {
   "cell_type": "markdown",
   "id": "a6710295",
   "metadata": {},
   "source": [
    "### Model Building by OLS Method"
   ]
  },
  {
   "cell_type": "code",
   "execution_count": 50,
   "id": "26af8ef6",
   "metadata": {},
   "outputs": [],
   "source": [
    "import statsmodels.api as sm\n",
    "X_train_lm=sm.add_constant(X_train_rfe) #adding constant term\n"
   ]
  },
  {
   "cell_type": "code",
   "execution_count": 51,
   "id": "439f184c",
   "metadata": {},
   "outputs": [],
   "source": [
    "#Fitting the model\n",
    "lm_1=sm.OLS(y_train,X_train_lm).fit()"
   ]
  },
  {
   "cell_type": "code",
   "execution_count": 52,
   "id": "5d7e62b7",
   "metadata": {},
   "outputs": [
    {
     "data": {
      "text/html": [
       "<table class=\"simpletable\">\n",
       "<caption>OLS Regression Results</caption>\n",
       "<tr>\n",
       "  <th>Dep. Variable:</th>           <td>cnt</td>       <th>  R-squared:         </th> <td>   0.853</td> \n",
       "</tr>\n",
       "<tr>\n",
       "  <th>Model:</th>                   <td>OLS</td>       <th>  Adj. R-squared:    </th> <td>   0.845</td> \n",
       "</tr>\n",
       "<tr>\n",
       "  <th>Method:</th>             <td>Least Squares</td>  <th>  F-statistic:       </th> <td>   99.96</td> \n",
       "</tr>\n",
       "<tr>\n",
       "  <th>Date:</th>             <td>Wed, 26 Jun 2024</td> <th>  Prob (F-statistic):</th> <td>8.42e-181</td>\n",
       "</tr>\n",
       "<tr>\n",
       "  <th>Time:</th>                 <td>17:26:20</td>     <th>  Log-Likelihood:    </th> <td>  528.03</td> \n",
       "</tr>\n",
       "<tr>\n",
       "  <th>No. Observations:</th>      <td>   510</td>      <th>  AIC:               </th> <td>  -998.1</td> \n",
       "</tr>\n",
       "<tr>\n",
       "  <th>Df Residuals:</th>          <td>   481</td>      <th>  BIC:               </th> <td>  -875.3</td> \n",
       "</tr>\n",
       "<tr>\n",
       "  <th>Df Model:</th>              <td>    28</td>      <th>                     </th>     <td> </td>    \n",
       "</tr>\n",
       "<tr>\n",
       "  <th>Covariance Type:</th>      <td>nonrobust</td>    <th>                     </th>     <td> </td>    \n",
       "</tr>\n",
       "</table>\n",
       "<table class=\"simpletable\">\n",
       "<tr>\n",
       "          <td></td>            <th>coef</th>     <th>std err</th>      <th>t</th>      <th>P>|t|</th>  <th>[0.025</th>    <th>0.975]</th>  \n",
       "</tr>\n",
       "<tr>\n",
       "  <th>const</th>            <td>   -0.0325</td> <td>    0.054</td> <td>   -0.606</td> <td> 0.545</td> <td>   -0.138</td> <td>    0.073</td>\n",
       "</tr>\n",
       "<tr>\n",
       "  <th>yr</th>               <td>    0.2322</td> <td>    0.008</td> <td>   28.792</td> <td> 0.000</td> <td>    0.216</td> <td>    0.248</td>\n",
       "</tr>\n",
       "<tr>\n",
       "  <th>holiday</th>          <td>   -0.0424</td> <td>    0.024</td> <td>   -1.793</td> <td> 0.074</td> <td>   -0.089</td> <td>    0.004</td>\n",
       "</tr>\n",
       "<tr>\n",
       "  <th>workingday</th>       <td>    0.0439</td> <td>    0.009</td> <td>    4.689</td> <td> 0.000</td> <td>    0.025</td> <td>    0.062</td>\n",
       "</tr>\n",
       "<tr>\n",
       "  <th>temp</th>             <td>    0.4013</td> <td>    0.142</td> <td>    2.821</td> <td> 0.005</td> <td>    0.122</td> <td>    0.681</td>\n",
       "</tr>\n",
       "<tr>\n",
       "  <th>atemp</th>            <td>    0.0506</td> <td>    0.138</td> <td>    0.366</td> <td> 0.714</td> <td>   -0.221</td> <td>    0.322</td>\n",
       "</tr>\n",
       "<tr>\n",
       "  <th>hum</th>              <td>   -0.1518</td> <td>    0.039</td> <td>   -3.940</td> <td> 0.000</td> <td>   -0.228</td> <td>   -0.076</td>\n",
       "</tr>\n",
       "<tr>\n",
       "  <th>windspeed</th>        <td>   -0.1844</td> <td>    0.026</td> <td>   -7.003</td> <td> 0.000</td> <td>   -0.236</td> <td>   -0.133</td>\n",
       "</tr>\n",
       "<tr>\n",
       "  <th>weekday_1</th>        <td>   -0.0099</td> <td>    0.010</td> <td>   -1.023</td> <td> 0.307</td> <td>   -0.029</td> <td>    0.009</td>\n",
       "</tr>\n",
       "<tr>\n",
       "  <th>weekday_2</th>        <td>   -0.0078</td> <td>    0.011</td> <td>   -0.695</td> <td> 0.488</td> <td>   -0.030</td> <td>    0.014</td>\n",
       "</tr>\n",
       "<tr>\n",
       "  <th>weekday_3</th>        <td>    0.0058</td> <td>    0.011</td> <td>    0.554</td> <td> 0.580</td> <td>   -0.015</td> <td>    0.026</td>\n",
       "</tr>\n",
       "<tr>\n",
       "  <th>weekday_4</th>        <td>    0.0018</td> <td>    0.011</td> <td>    0.165</td> <td> 0.869</td> <td>   -0.020</td> <td>    0.023</td>\n",
       "</tr>\n",
       "<tr>\n",
       "  <th>weekday_5</th>        <td>    0.0116</td> <td>    0.011</td> <td>    1.031</td> <td> 0.303</td> <td>   -0.010</td> <td>    0.034</td>\n",
       "</tr>\n",
       "<tr>\n",
       "  <th>weekday_6</th>        <td>    0.0545</td> <td>    0.015</td> <td>    3.757</td> <td> 0.000</td> <td>    0.026</td> <td>    0.083</td>\n",
       "</tr>\n",
       "<tr>\n",
       "  <th>season_spring</th>    <td>   -0.0486</td> <td>    0.030</td> <td>   -1.618</td> <td> 0.106</td> <td>   -0.108</td> <td>    0.010</td>\n",
       "</tr>\n",
       "<tr>\n",
       "  <th>season_summer</th>    <td>    0.0382</td> <td>    0.026</td> <td>    1.455</td> <td> 0.146</td> <td>   -0.013</td> <td>    0.090</td>\n",
       "</tr>\n",
       "<tr>\n",
       "  <th>season_winter</th>    <td>    0.1054</td> <td>    0.028</td> <td>    3.770</td> <td> 0.000</td> <td>    0.050</td> <td>    0.160</td>\n",
       "</tr>\n",
       "<tr>\n",
       "  <th>weathersit_Mist</th>  <td>    0.1957</td> <td>    0.025</td> <td>    7.810</td> <td> 0.000</td> <td>    0.146</td> <td>    0.245</td>\n",
       "</tr>\n",
       "<tr>\n",
       "  <th>weathersit_cloud</th> <td>    0.2567</td> <td>    0.026</td> <td>    9.712</td> <td> 0.000</td> <td>    0.205</td> <td>    0.309</td>\n",
       "</tr>\n",
       "<tr>\n",
       "  <th>mnth_2</th>           <td>    0.0304</td> <td>    0.021</td> <td>    1.474</td> <td> 0.141</td> <td>   -0.010</td> <td>    0.071</td>\n",
       "</tr>\n",
       "<tr>\n",
       "  <th>mnth_3</th>           <td>    0.0639</td> <td>    0.022</td> <td>    2.857</td> <td> 0.004</td> <td>    0.020</td> <td>    0.108</td>\n",
       "</tr>\n",
       "<tr>\n",
       "  <th>mnth_4</th>           <td>    0.0626</td> <td>    0.034</td> <td>    1.864</td> <td> 0.063</td> <td>   -0.003</td> <td>    0.129</td>\n",
       "</tr>\n",
       "<tr>\n",
       "  <th>mnth_5</th>           <td>    0.0873</td> <td>    0.036</td> <td>    2.412</td> <td> 0.016</td> <td>    0.016</td> <td>    0.158</td>\n",
       "</tr>\n",
       "<tr>\n",
       "  <th>mnth_6</th>           <td>    0.0609</td> <td>    0.039</td> <td>    1.556</td> <td> 0.120</td> <td>   -0.016</td> <td>    0.138</td>\n",
       "</tr>\n",
       "<tr>\n",
       "  <th>mnth_7</th>           <td>    0.0233</td> <td>    0.044</td> <td>    0.529</td> <td> 0.597</td> <td>   -0.063</td> <td>    0.110</td>\n",
       "</tr>\n",
       "<tr>\n",
       "  <th>mnth_8</th>           <td>    0.0786</td> <td>    0.042</td> <td>    1.873</td> <td> 0.062</td> <td>   -0.004</td> <td>    0.161</td>\n",
       "</tr>\n",
       "<tr>\n",
       "  <th>mnth_9</th>           <td>    0.1444</td> <td>    0.037</td> <td>    3.853</td> <td> 0.000</td> <td>    0.071</td> <td>    0.218</td>\n",
       "</tr>\n",
       "<tr>\n",
       "  <th>mnth_10</th>          <td>    0.0703</td> <td>    0.034</td> <td>    2.041</td> <td> 0.042</td> <td>    0.003</td> <td>    0.138</td>\n",
       "</tr>\n",
       "<tr>\n",
       "  <th>mnth_11</th>          <td>    0.0208</td> <td>    0.033</td> <td>    0.633</td> <td> 0.527</td> <td>   -0.044</td> <td>    0.085</td>\n",
       "</tr>\n",
       "<tr>\n",
       "  <th>mnth_12</th>          <td>    0.0170</td> <td>    0.027</td> <td>    0.641</td> <td> 0.522</td> <td>   -0.035</td> <td>    0.069</td>\n",
       "</tr>\n",
       "</table>\n",
       "<table class=\"simpletable\">\n",
       "<tr>\n",
       "  <th>Omnibus:</th>       <td>85.143</td> <th>  Durbin-Watson:     </th> <td>   2.041</td>\n",
       "</tr>\n",
       "<tr>\n",
       "  <th>Prob(Omnibus):</th> <td> 0.000</td> <th>  Jarque-Bera (JB):  </th> <td> 237.880</td>\n",
       "</tr>\n",
       "<tr>\n",
       "  <th>Skew:</th>          <td>-0.809</td> <th>  Prob(JB):          </th> <td>2.21e-52</td>\n",
       "</tr>\n",
       "<tr>\n",
       "  <th>Kurtosis:</th>      <td> 5.929</td> <th>  Cond. No.          </th> <td>1.18e+16</td>\n",
       "</tr>\n",
       "</table><br/><br/>Notes:<br/>[1] Standard Errors assume that the covariance matrix of the errors is correctly specified.<br/>[2] The smallest eigenvalue is 1.37e-29. This might indicate that there are<br/>strong multicollinearity problems or that the design matrix is singular."
      ],
      "text/plain": [
       "<class 'statsmodels.iolib.summary.Summary'>\n",
       "\"\"\"\n",
       "                            OLS Regression Results                            \n",
       "==============================================================================\n",
       "Dep. Variable:                    cnt   R-squared:                       0.853\n",
       "Model:                            OLS   Adj. R-squared:                  0.845\n",
       "Method:                 Least Squares   F-statistic:                     99.96\n",
       "Date:                Wed, 26 Jun 2024   Prob (F-statistic):          8.42e-181\n",
       "Time:                        17:26:20   Log-Likelihood:                 528.03\n",
       "No. Observations:                 510   AIC:                            -998.1\n",
       "Df Residuals:                     481   BIC:                            -875.3\n",
       "Df Model:                          28                                         \n",
       "Covariance Type:            nonrobust                                         \n",
       "====================================================================================\n",
       "                       coef    std err          t      P>|t|      [0.025      0.975]\n",
       "------------------------------------------------------------------------------------\n",
       "const               -0.0325      0.054     -0.606      0.545      -0.138       0.073\n",
       "yr                   0.2322      0.008     28.792      0.000       0.216       0.248\n",
       "holiday             -0.0424      0.024     -1.793      0.074      -0.089       0.004\n",
       "workingday           0.0439      0.009      4.689      0.000       0.025       0.062\n",
       "temp                 0.4013      0.142      2.821      0.005       0.122       0.681\n",
       "atemp                0.0506      0.138      0.366      0.714      -0.221       0.322\n",
       "hum                 -0.1518      0.039     -3.940      0.000      -0.228      -0.076\n",
       "windspeed           -0.1844      0.026     -7.003      0.000      -0.236      -0.133\n",
       "weekday_1           -0.0099      0.010     -1.023      0.307      -0.029       0.009\n",
       "weekday_2           -0.0078      0.011     -0.695      0.488      -0.030       0.014\n",
       "weekday_3            0.0058      0.011      0.554      0.580      -0.015       0.026\n",
       "weekday_4            0.0018      0.011      0.165      0.869      -0.020       0.023\n",
       "weekday_5            0.0116      0.011      1.031      0.303      -0.010       0.034\n",
       "weekday_6            0.0545      0.015      3.757      0.000       0.026       0.083\n",
       "season_spring       -0.0486      0.030     -1.618      0.106      -0.108       0.010\n",
       "season_summer        0.0382      0.026      1.455      0.146      -0.013       0.090\n",
       "season_winter        0.1054      0.028      3.770      0.000       0.050       0.160\n",
       "weathersit_Mist      0.1957      0.025      7.810      0.000       0.146       0.245\n",
       "weathersit_cloud     0.2567      0.026      9.712      0.000       0.205       0.309\n",
       "mnth_2               0.0304      0.021      1.474      0.141      -0.010       0.071\n",
       "mnth_3               0.0639      0.022      2.857      0.004       0.020       0.108\n",
       "mnth_4               0.0626      0.034      1.864      0.063      -0.003       0.129\n",
       "mnth_5               0.0873      0.036      2.412      0.016       0.016       0.158\n",
       "mnth_6               0.0609      0.039      1.556      0.120      -0.016       0.138\n",
       "mnth_7               0.0233      0.044      0.529      0.597      -0.063       0.110\n",
       "mnth_8               0.0786      0.042      1.873      0.062      -0.004       0.161\n",
       "mnth_9               0.1444      0.037      3.853      0.000       0.071       0.218\n",
       "mnth_10              0.0703      0.034      2.041      0.042       0.003       0.138\n",
       "mnth_11              0.0208      0.033      0.633      0.527      -0.044       0.085\n",
       "mnth_12              0.0170      0.027      0.641      0.522      -0.035       0.069\n",
       "==============================================================================\n",
       "Omnibus:                       85.143   Durbin-Watson:                   2.041\n",
       "Prob(Omnibus):                  0.000   Jarque-Bera (JB):              237.880\n",
       "Skew:                          -0.809   Prob(JB):                     2.21e-52\n",
       "Kurtosis:                       5.929   Cond. No.                     1.18e+16\n",
       "==============================================================================\n",
       "\n",
       "Notes:\n",
       "[1] Standard Errors assume that the covariance matrix of the errors is correctly specified.\n",
       "[2] The smallest eigenvalue is 1.37e-29. This might indicate that there are\n",
       "strong multicollinearity problems or that the design matrix is singular.\n",
       "\"\"\""
      ]
     },
     "execution_count": 52,
     "metadata": {},
     "output_type": "execute_result"
    }
   ],
   "source": [
    "##Checking summary of model\n",
    "\n",
    "lm_1.summary()"
   ]
  },
  {
   "cell_type": "code",
   "execution_count": 53,
   "id": "c4a24de0",
   "metadata": {},
   "outputs": [],
   "source": [
    "# Check for the VIF values of the feature variables. \n",
    "from statsmodels.stats.outliers_influence import variance_inflation_factor"
   ]
  },
  {
   "cell_type": "code",
   "execution_count": 54,
   "id": "14c89925",
   "metadata": {},
   "outputs": [
    {
     "data": {
      "text/html": [
       "<div>\n",
       "<style scoped>\n",
       "    .dataframe tbody tr th:only-of-type {\n",
       "        vertical-align: middle;\n",
       "    }\n",
       "\n",
       "    .dataframe tbody tr th {\n",
       "        vertical-align: top;\n",
       "    }\n",
       "\n",
       "    .dataframe thead th {\n",
       "        text-align: right;\n",
       "    }\n",
       "</style>\n",
       "<table border=\"1\" class=\"dataframe\">\n",
       "  <thead>\n",
       "    <tr style=\"text-align: right;\">\n",
       "      <th></th>\n",
       "      <th>Features</th>\n",
       "      <th>VIF</th>\n",
       "    </tr>\n",
       "  </thead>\n",
       "  <tbody>\n",
       "    <tr>\n",
       "      <th>2</th>\n",
       "      <td>workingday</td>\n",
       "      <td>inf</td>\n",
       "    </tr>\n",
       "    <tr>\n",
       "      <th>7</th>\n",
       "      <td>weekday_1</td>\n",
       "      <td>inf</td>\n",
       "    </tr>\n",
       "    <tr>\n",
       "      <th>8</th>\n",
       "      <td>weekday_2</td>\n",
       "      <td>inf</td>\n",
       "    </tr>\n",
       "    <tr>\n",
       "      <th>9</th>\n",
       "      <td>weekday_3</td>\n",
       "      <td>inf</td>\n",
       "    </tr>\n",
       "    <tr>\n",
       "      <th>10</th>\n",
       "      <td>weekday_4</td>\n",
       "      <td>inf</td>\n",
       "    </tr>\n",
       "    <tr>\n",
       "      <th>11</th>\n",
       "      <td>weekday_5</td>\n",
       "      <td>inf</td>\n",
       "    </tr>\n",
       "    <tr>\n",
       "      <th>1</th>\n",
       "      <td>holiday</td>\n",
       "      <td>inf</td>\n",
       "    </tr>\n",
       "    <tr>\n",
       "      <th>3</th>\n",
       "      <td>temp</td>\n",
       "      <td>446.31</td>\n",
       "    </tr>\n",
       "    <tr>\n",
       "      <th>4</th>\n",
       "      <td>atemp</td>\n",
       "      <td>383.39</td>\n",
       "    </tr>\n",
       "    <tr>\n",
       "      <th>5</th>\n",
       "      <td>hum</td>\n",
       "      <td>28.36</td>\n",
       "    </tr>\n",
       "    <tr>\n",
       "      <th>17</th>\n",
       "      <td>weathersit_cloud</td>\n",
       "      <td>17.53</td>\n",
       "    </tr>\n",
       "    <tr>\n",
       "      <th>15</th>\n",
       "      <td>season_winter</td>\n",
       "      <td>11.38</td>\n",
       "    </tr>\n",
       "    <tr>\n",
       "      <th>13</th>\n",
       "      <td>season_spring</td>\n",
       "      <td>10.34</td>\n",
       "    </tr>\n",
       "    <tr>\n",
       "      <th>16</th>\n",
       "      <td>weathersit_Mist</td>\n",
       "      <td>10.18</td>\n",
       "    </tr>\n",
       "    <tr>\n",
       "      <th>14</th>\n",
       "      <td>season_summer</td>\n",
       "      <td>9.88</td>\n",
       "    </tr>\n",
       "    <tr>\n",
       "      <th>24</th>\n",
       "      <td>mnth_8</td>\n",
       "      <td>9.42</td>\n",
       "    </tr>\n",
       "    <tr>\n",
       "      <th>23</th>\n",
       "      <td>mnth_7</td>\n",
       "      <td>8.21</td>\n",
       "    </tr>\n",
       "    <tr>\n",
       "      <th>21</th>\n",
       "      <td>mnth_5</td>\n",
       "      <td>6.89</td>\n",
       "    </tr>\n",
       "    <tr>\n",
       "      <th>22</th>\n",
       "      <td>mnth_6</td>\n",
       "      <td>6.75</td>\n",
       "    </tr>\n",
       "    <tr>\n",
       "      <th>25</th>\n",
       "      <td>mnth_9</td>\n",
       "      <td>6.27</td>\n",
       "    </tr>\n",
       "    <tr>\n",
       "      <th>26</th>\n",
       "      <td>mnth_10</td>\n",
       "      <td>6.23</td>\n",
       "    </tr>\n",
       "    <tr>\n",
       "      <th>27</th>\n",
       "      <td>mnth_11</td>\n",
       "      <td>5.59</td>\n",
       "    </tr>\n",
       "    <tr>\n",
       "      <th>6</th>\n",
       "      <td>windspeed</td>\n",
       "      <td>5.44</td>\n",
       "    </tr>\n",
       "    <tr>\n",
       "      <th>20</th>\n",
       "      <td>mnth_4</td>\n",
       "      <td>5.26</td>\n",
       "    </tr>\n",
       "    <tr>\n",
       "      <th>28</th>\n",
       "      <td>mnth_12</td>\n",
       "      <td>3.61</td>\n",
       "    </tr>\n",
       "    <tr>\n",
       "      <th>19</th>\n",
       "      <td>mnth_3</td>\n",
       "      <td>3.01</td>\n",
       "    </tr>\n",
       "    <tr>\n",
       "      <th>0</th>\n",
       "      <td>yr</td>\n",
       "      <td>2.14</td>\n",
       "    </tr>\n",
       "    <tr>\n",
       "      <th>12</th>\n",
       "      <td>weekday_6</td>\n",
       "      <td>2.04</td>\n",
       "    </tr>\n",
       "    <tr>\n",
       "      <th>18</th>\n",
       "      <td>mnth_2</td>\n",
       "      <td>1.79</td>\n",
       "    </tr>\n",
       "  </tbody>\n",
       "</table>\n",
       "</div>"
      ],
      "text/plain": [
       "            Features     VIF\n",
       "2         workingday     inf\n",
       "7          weekday_1     inf\n",
       "8          weekday_2     inf\n",
       "9          weekday_3     inf\n",
       "10         weekday_4     inf\n",
       "11         weekday_5     inf\n",
       "1            holiday     inf\n",
       "3               temp  446.31\n",
       "4              atemp  383.39\n",
       "5                hum   28.36\n",
       "17  weathersit_cloud   17.53\n",
       "15     season_winter   11.38\n",
       "13     season_spring   10.34\n",
       "16   weathersit_Mist   10.18\n",
       "14     season_summer    9.88\n",
       "24            mnth_8    9.42\n",
       "23            mnth_7    8.21\n",
       "21            mnth_5    6.89\n",
       "22            mnth_6    6.75\n",
       "25            mnth_9    6.27\n",
       "26           mnth_10    6.23\n",
       "27           mnth_11    5.59\n",
       "6          windspeed    5.44\n",
       "20            mnth_4    5.26\n",
       "28           mnth_12    3.61\n",
       "19            mnth_3    3.01\n",
       "0                 yr    2.14\n",
       "12         weekday_6    2.04\n",
       "18            mnth_2    1.79"
      ]
     },
     "execution_count": 54,
     "metadata": {},
     "output_type": "execute_result"
    }
   ],
   "source": [
    "vif = pd.DataFrame()\n",
    "vif['Features'] = X_train_rfe.columns\n",
    "vif['VIF'] = [variance_inflation_factor(X_train_rfe.values, i) for i in range(X_train_rfe.shape[1])]\n",
    "vif['VIF'] = round(vif['VIF'], 2)\n",
    "vif = vif.sort_values(by = \"VIF\", ascending = False)\n",
    "vif"
   ]
  },
  {
   "cell_type": "markdown",
   "id": "4a36c223",
   "metadata": {},
   "source": [
    "### Observation on result\n",
    "\n",
    "- We observe that a few attributes have both high p-values (>0.05) and high VIFs. Therefore, we will drop these attributes one by one and assess the R-squared and Adjusted R-squared values.\n",
    "\n",
    "- We will follow above step untill we get optimum values for significance and VIF\n"
   ]
  },
  {
   "cell_type": "code",
   "execution_count": 55,
   "id": "9242a006",
   "metadata": {},
   "outputs": [],
   "source": [
    "#Building second model by dropping below varaibles\n",
    "\n",
    "X_train_new=X_train_rfe.drop(['weekday_1','weekday_2','weekday_3','weekday_4','weekday_5','mnth_2','mnth_7','mnth_11','mnth_12'],axis=1)"
   ]
  },
  {
   "cell_type": "code",
   "execution_count": 56,
   "id": "7358f35f",
   "metadata": {},
   "outputs": [],
   "source": [
    "X_train_lm2=sm.add_constant(X_train_new)"
   ]
  },
  {
   "cell_type": "code",
   "execution_count": 57,
   "id": "9ee7c594",
   "metadata": {},
   "outputs": [
    {
     "data": {
      "text/plain": [
       "Index(['const', 'yr', 'holiday', 'workingday', 'temp', 'atemp', 'hum',\n",
       "       'windspeed', 'weekday_6', 'season_spring', 'season_summer',\n",
       "       'season_winter', 'weathersit_Mist', 'weathersit_cloud', 'mnth_3',\n",
       "       'mnth_4', 'mnth_5', 'mnth_6', 'mnth_8', 'mnth_9', 'mnth_10'],\n",
       "      dtype='object')"
      ]
     },
     "execution_count": 57,
     "metadata": {},
     "output_type": "execute_result"
    }
   ],
   "source": [
    "X_train_lm2.columns"
   ]
  },
  {
   "cell_type": "code",
   "execution_count": 58,
   "id": "089af588",
   "metadata": {},
   "outputs": [],
   "source": [
    "lm2 = sm.OLS(y_train,X_train_lm2).fit()   # Running the linear model"
   ]
  },
  {
   "cell_type": "code",
   "execution_count": 59,
   "id": "1285e5d2",
   "metadata": {},
   "outputs": [
    {
     "name": "stdout",
     "output_type": "stream",
     "text": [
      "                            OLS Regression Results                            \n",
      "==============================================================================\n",
      "Dep. Variable:                    cnt   R-squared:                       0.852\n",
      "Model:                            OLS   Adj. R-squared:                  0.846\n",
      "Method:                 Least Squares   F-statistic:                     140.5\n",
      "Date:                Wed, 26 Jun 2024   Prob (F-statistic):          4.51e-188\n",
      "Time:                        17:26:20   Log-Likelihood:                 525.37\n",
      "No. Observations:                 510   AIC:                            -1009.\n",
      "Df Residuals:                     489   BIC:                            -919.8\n",
      "Df Model:                          20                                         \n",
      "Covariance Type:            nonrobust                                         \n",
      "====================================================================================\n",
      "                       coef    std err          t      P>|t|      [0.025      0.975]\n",
      "------------------------------------------------------------------------------------\n",
      "const               -0.0139      0.049     -0.285      0.776      -0.110       0.082\n",
      "yr                   0.2310      0.008     28.926      0.000       0.215       0.247\n",
      "holiday             -0.0490      0.027     -1.829      0.068      -0.102       0.004\n",
      "workingday           0.0436      0.011      3.801      0.000       0.021       0.066\n",
      "temp                 0.4339      0.136      3.190      0.002       0.167       0.701\n",
      "atemp                0.0322      0.137      0.236      0.814      -0.236       0.301\n",
      "hum                 -0.1592      0.038     -4.220      0.000      -0.233      -0.085\n",
      "windspeed           -0.1826      0.026     -7.027      0.000      -0.234      -0.132\n",
      "weekday_6            0.0534      0.014      3.696      0.000       0.025       0.082\n",
      "season_spring       -0.0489      0.023     -2.126      0.034      -0.094      -0.004\n",
      "season_summer        0.0382      0.024      1.575      0.116      -0.009       0.086\n",
      "season_winter        0.1085      0.020      5.396      0.000       0.069       0.148\n",
      "weathersit_Mist      0.1935      0.025      7.817      0.000       0.145       0.242\n",
      "weathersit_cloud     0.2533      0.026      9.686      0.000       0.202       0.305\n",
      "mnth_3               0.0472      0.017      2.816      0.005       0.014       0.080\n",
      "mnth_4               0.0440      0.026      1.717      0.087      -0.006       0.094\n",
      "mnth_5               0.0679      0.026      2.606      0.009       0.017       0.119\n",
      "mnth_6               0.0390      0.022      1.737      0.083      -0.005       0.083\n",
      "mnth_8               0.0569      0.018      3.155      0.002       0.021       0.092\n",
      "mnth_9               0.1240      0.017      7.144      0.000       0.090       0.158\n",
      "mnth_10              0.0487      0.017      2.819      0.005       0.015       0.083\n",
      "==============================================================================\n",
      "Omnibus:                       82.801   Durbin-Watson:                   2.030\n",
      "Prob(Omnibus):                  0.000   Jarque-Bera (JB):              233.627\n",
      "Skew:                          -0.784   Prob(JB):                     1.86e-51\n",
      "Kurtosis:                       5.922   Cond. No.                         93.3\n",
      "==============================================================================\n",
      "\n",
      "Notes:\n",
      "[1] Standard Errors assume that the covariance matrix of the errors is correctly specified.\n"
     ]
    }
   ],
   "source": [
    "print(lm2.summary())\n"
   ]
  },
  {
   "cell_type": "code",
   "execution_count": 60,
   "id": "8392e994",
   "metadata": {},
   "outputs": [
    {
     "data": {
      "text/html": [
       "<div>\n",
       "<style scoped>\n",
       "    .dataframe tbody tr th:only-of-type {\n",
       "        vertical-align: middle;\n",
       "    }\n",
       "\n",
       "    .dataframe tbody tr th {\n",
       "        vertical-align: top;\n",
       "    }\n",
       "\n",
       "    .dataframe thead th {\n",
       "        text-align: right;\n",
       "    }\n",
       "</style>\n",
       "<table border=\"1\" class=\"dataframe\">\n",
       "  <thead>\n",
       "    <tr style=\"text-align: right;\">\n",
       "      <th></th>\n",
       "      <th>Features</th>\n",
       "      <th>VIF</th>\n",
       "    </tr>\n",
       "  </thead>\n",
       "  <tbody>\n",
       "    <tr>\n",
       "      <th>3</th>\n",
       "      <td>temp</td>\n",
       "      <td>401.13</td>\n",
       "    </tr>\n",
       "    <tr>\n",
       "      <th>4</th>\n",
       "      <td>atemp</td>\n",
       "      <td>375.35</td>\n",
       "    </tr>\n",
       "    <tr>\n",
       "      <th>5</th>\n",
       "      <td>hum</td>\n",
       "      <td>26.61</td>\n",
       "    </tr>\n",
       "    <tr>\n",
       "      <th>12</th>\n",
       "      <td>weathersit_cloud</td>\n",
       "      <td>15.79</td>\n",
       "    </tr>\n",
       "    <tr>\n",
       "      <th>11</th>\n",
       "      <td>weathersit_Mist</td>\n",
       "      <td>9.46</td>\n",
       "    </tr>\n",
       "    <tr>\n",
       "      <th>9</th>\n",
       "      <td>season_summer</td>\n",
       "      <td>8.99</td>\n",
       "    </tr>\n",
       "    <tr>\n",
       "      <th>8</th>\n",
       "      <td>season_spring</td>\n",
       "      <td>6.93</td>\n",
       "    </tr>\n",
       "    <tr>\n",
       "      <th>10</th>\n",
       "      <td>season_winter</td>\n",
       "      <td>5.69</td>\n",
       "    </tr>\n",
       "    <tr>\n",
       "      <th>2</th>\n",
       "      <td>workingday</td>\n",
       "      <td>5.47</td>\n",
       "    </tr>\n",
       "    <tr>\n",
       "      <th>6</th>\n",
       "      <td>windspeed</td>\n",
       "      <td>5.17</td>\n",
       "    </tr>\n",
       "    <tr>\n",
       "      <th>15</th>\n",
       "      <td>mnth_5</td>\n",
       "      <td>3.71</td>\n",
       "    </tr>\n",
       "    <tr>\n",
       "      <th>14</th>\n",
       "      <td>mnth_4</td>\n",
       "      <td>3.36</td>\n",
       "    </tr>\n",
       "    <tr>\n",
       "      <th>16</th>\n",
       "      <td>mnth_6</td>\n",
       "      <td>2.46</td>\n",
       "    </tr>\n",
       "    <tr>\n",
       "      <th>0</th>\n",
       "      <td>yr</td>\n",
       "      <td>2.12</td>\n",
       "    </tr>\n",
       "    <tr>\n",
       "      <th>17</th>\n",
       "      <td>mnth_8</td>\n",
       "      <td>2.04</td>\n",
       "    </tr>\n",
       "    <tr>\n",
       "      <th>7</th>\n",
       "      <td>weekday_6</td>\n",
       "      <td>2.02</td>\n",
       "    </tr>\n",
       "    <tr>\n",
       "      <th>13</th>\n",
       "      <td>mnth_3</td>\n",
       "      <td>1.81</td>\n",
       "    </tr>\n",
       "    <tr>\n",
       "      <th>19</th>\n",
       "      <td>mnth_10</td>\n",
       "      <td>1.68</td>\n",
       "    </tr>\n",
       "    <tr>\n",
       "      <th>18</th>\n",
       "      <td>mnth_9</td>\n",
       "      <td>1.58</td>\n",
       "    </tr>\n",
       "    <tr>\n",
       "      <th>1</th>\n",
       "      <td>holiday</td>\n",
       "      <td>1.20</td>\n",
       "    </tr>\n",
       "  </tbody>\n",
       "</table>\n",
       "</div>"
      ],
      "text/plain": [
       "            Features     VIF\n",
       "3               temp  401.13\n",
       "4              atemp  375.35\n",
       "5                hum   26.61\n",
       "12  weathersit_cloud   15.79\n",
       "11   weathersit_Mist    9.46\n",
       "9      season_summer    8.99\n",
       "8      season_spring    6.93\n",
       "10     season_winter    5.69\n",
       "2         workingday    5.47\n",
       "6          windspeed    5.17\n",
       "15            mnth_5    3.71\n",
       "14            mnth_4    3.36\n",
       "16            mnth_6    2.46\n",
       "0                 yr    2.12\n",
       "17            mnth_8    2.04\n",
       "7          weekday_6    2.02\n",
       "13            mnth_3    1.81\n",
       "19           mnth_10    1.68\n",
       "18            mnth_9    1.58\n",
       "1            holiday    1.20"
      ]
     },
     "execution_count": 60,
     "metadata": {},
     "output_type": "execute_result"
    }
   ],
   "source": [
    "vif = pd.DataFrame()\n",
    "vif['Features'] = X_train_new.columns\n",
    "vif['VIF'] = [variance_inflation_factor(X_train_new.values, i) for i in range(X_train_new.shape[1])]\n",
    "vif['VIF'] = round(vif['VIF'], 2)\n",
    "vif = vif.sort_values(by = \"VIF\", ascending = False)\n",
    "vif"
   ]
  },
  {
   "cell_type": "code",
   "execution_count": 61,
   "id": "f4514d2f",
   "metadata": {},
   "outputs": [],
   "source": [
    "### Building the third model\n",
    "\n",
    "X_train_new3=X_train_new.drop(['holiday','temp','season_summer','mnth_4','mnth_6','mnth_3','mnth_8','mnth_5','weathersit_Mist','mnth_10','hum'],axis=1)"
   ]
  },
  {
   "cell_type": "code",
   "execution_count": 62,
   "id": "68f7b497",
   "metadata": {},
   "outputs": [],
   "source": [
    "X_train_lm3=sm.add_constant(X_train_new3)"
   ]
  },
  {
   "cell_type": "code",
   "execution_count": 63,
   "id": "4257f6ff",
   "metadata": {},
   "outputs": [
    {
     "data": {
      "text/plain": [
       "Index(['const', 'yr', 'workingday', 'atemp', 'windspeed', 'weekday_6',\n",
       "       'season_spring', 'season_winter', 'weathersit_cloud', 'mnth_9'],\n",
       "      dtype='object')"
      ]
     },
     "execution_count": 63,
     "metadata": {},
     "output_type": "execute_result"
    }
   ],
   "source": [
    "X_train_lm3.columns"
   ]
  },
  {
   "cell_type": "code",
   "execution_count": 64,
   "id": "35d45ae2",
   "metadata": {},
   "outputs": [],
   "source": [
    "lm3 = sm.OLS(y_train,X_train_lm3).fit()   # Running the linear model"
   ]
  },
  {
   "cell_type": "code",
   "execution_count": 65,
   "id": "787aa984",
   "metadata": {},
   "outputs": [
    {
     "name": "stdout",
     "output_type": "stream",
     "text": [
      "                            OLS Regression Results                            \n",
      "==============================================================================\n",
      "Dep. Variable:                    cnt   R-squared:                       0.808\n",
      "Model:                            OLS   Adj. R-squared:                  0.804\n",
      "Method:                 Least Squares   F-statistic:                     233.2\n",
      "Date:                Wed, 26 Jun 2024   Prob (F-statistic):          1.15e-172\n",
      "Time:                        17:26:20   Log-Likelihood:                 458.82\n",
      "No. Observations:                 510   AIC:                            -897.6\n",
      "Df Residuals:                     500   BIC:                            -855.3\n",
      "Df Model:                           9                                         \n",
      "Covariance Type:            nonrobust                                         \n",
      "====================================================================================\n",
      "                       coef    std err          t      P>|t|      [0.025      0.975]\n",
      "------------------------------------------------------------------------------------\n",
      "const                0.1321      0.027      4.847      0.000       0.079       0.186\n",
      "yr                   0.2401      0.009     27.067      0.000       0.223       0.258\n",
      "workingday           0.0522      0.012      4.328      0.000       0.028       0.076\n",
      "atemp                0.4232      0.032     13.064      0.000       0.360       0.487\n",
      "windspeed           -0.1462      0.027     -5.420      0.000      -0.199      -0.093\n",
      "weekday_6            0.0623      0.016      4.009      0.000       0.032       0.093\n",
      "season_spring       -0.1203      0.016     -7.474      0.000      -0.152      -0.089\n",
      "season_winter        0.0328      0.013      2.520      0.012       0.007       0.058\n",
      "weathersit_cloud     0.0963      0.009     10.429      0.000       0.078       0.114\n",
      "mnth_9               0.0634      0.017      3.804      0.000       0.031       0.096\n",
      "==============================================================================\n",
      "Omnibus:                      102.046   Durbin-Watson:                   2.084\n",
      "Prob(Omnibus):                  0.000   Jarque-Bera (JB):              332.668\n",
      "Skew:                          -0.913   Prob(JB):                     5.78e-73\n",
      "Kurtosis:                       6.510   Cond. No.                         16.4\n",
      "==============================================================================\n",
      "\n",
      "Notes:\n",
      "[1] Standard Errors assume that the covariance matrix of the errors is correctly specified.\n"
     ]
    }
   ],
   "source": [
    "print(lm3.summary())"
   ]
  },
  {
   "cell_type": "code",
   "execution_count": 66,
   "id": "3663e635",
   "metadata": {},
   "outputs": [
    {
     "data": {
      "text/html": [
       "<div>\n",
       "<style scoped>\n",
       "    .dataframe tbody tr th:only-of-type {\n",
       "        vertical-align: middle;\n",
       "    }\n",
       "\n",
       "    .dataframe tbody tr th {\n",
       "        vertical-align: top;\n",
       "    }\n",
       "\n",
       "    .dataframe thead th {\n",
       "        text-align: right;\n",
       "    }\n",
       "</style>\n",
       "<table border=\"1\" class=\"dataframe\">\n",
       "  <thead>\n",
       "    <tr style=\"text-align: right;\">\n",
       "      <th></th>\n",
       "      <th>Features</th>\n",
       "      <th>VIF</th>\n",
       "    </tr>\n",
       "  </thead>\n",
       "  <tbody>\n",
       "    <tr>\n",
       "      <th>2</th>\n",
       "      <td>atemp</td>\n",
       "      <td>6.36</td>\n",
       "    </tr>\n",
       "    <tr>\n",
       "      <th>1</th>\n",
       "      <td>workingday</td>\n",
       "      <td>4.35</td>\n",
       "    </tr>\n",
       "    <tr>\n",
       "      <th>3</th>\n",
       "      <td>windspeed</td>\n",
       "      <td>3.97</td>\n",
       "    </tr>\n",
       "    <tr>\n",
       "      <th>7</th>\n",
       "      <td>weathersit_cloud</td>\n",
       "      <td>2.69</td>\n",
       "    </tr>\n",
       "    <tr>\n",
       "      <th>0</th>\n",
       "      <td>yr</td>\n",
       "      <td>2.05</td>\n",
       "    </tr>\n",
       "    <tr>\n",
       "      <th>5</th>\n",
       "      <td>season_spring</td>\n",
       "      <td>1.86</td>\n",
       "    </tr>\n",
       "    <tr>\n",
       "      <th>4</th>\n",
       "      <td>weekday_6</td>\n",
       "      <td>1.77</td>\n",
       "    </tr>\n",
       "    <tr>\n",
       "      <th>6</th>\n",
       "      <td>season_winter</td>\n",
       "      <td>1.40</td>\n",
       "    </tr>\n",
       "    <tr>\n",
       "      <th>8</th>\n",
       "      <td>mnth_9</td>\n",
       "      <td>1.15</td>\n",
       "    </tr>\n",
       "  </tbody>\n",
       "</table>\n",
       "</div>"
      ],
      "text/plain": [
       "           Features   VIF\n",
       "2             atemp  6.36\n",
       "1        workingday  4.35\n",
       "3         windspeed  3.97\n",
       "7  weathersit_cloud  2.69\n",
       "0                yr  2.05\n",
       "5     season_spring  1.86\n",
       "4         weekday_6  1.77\n",
       "6     season_winter  1.40\n",
       "8            mnth_9  1.15"
      ]
     },
     "execution_count": 66,
     "metadata": {},
     "output_type": "execute_result"
    }
   ],
   "source": [
    "vif = pd.DataFrame()\n",
    "vif['Features'] = X_train_new3.columns\n",
    "vif['VIF'] = [variance_inflation_factor(X_train_new3.values, i) for i in range(X_train_new3.shape[1])]\n",
    "vif['VIF'] = round(vif['VIF'], 2)\n",
    "vif = vif.sort_values(by = \"VIF\", ascending = False)\n",
    "vif"
   ]
  },
  {
   "cell_type": "code",
   "execution_count": 67,
   "id": "a7128241",
   "metadata": {},
   "outputs": [],
   "source": [
    "y_train_bike=lm3.predict(X_train_lm3)"
   ]
  },
  {
   "cell_type": "markdown",
   "id": "eae2161d",
   "metadata": {},
   "source": [
    "### Result in term of equation.\n",
    "\n",
    "We have chosen to retain the atemp variable in our third model, even though its VIF is slightly above 5. When we attempted to remove atemp, we observed a drastic decrease in the r_square value, suggesting a substantial loss of significant information essential for the model's predictive performance\n",
    "\n",
    "Linear equation comes out to be -\n",
    "ypred=0.1321 + 0.24 yr+0.05 workingday+0.4232 atemp-0.146 windspeed+0.06 weekday_6-0.12 season_spring+0.03 season_winter+0.096 weathersit_cloud+0.063 mnth_9\n"
   ]
  },
  {
   "cell_type": "markdown",
   "id": "4770d41b",
   "metadata": {},
   "source": [
    "### Resuidal Analysis"
   ]
  },
  {
   "cell_type": "code",
   "execution_count": 68,
   "id": "2d743005",
   "metadata": {},
   "outputs": [],
   "source": [
    "# Importing the required libraries for plots.\n",
    "import matplotlib.pyplot as plt\n",
    "import seaborn as sns\n",
    "%matplotlib inline"
   ]
  },
  {
   "cell_type": "code",
   "execution_count": 69,
   "id": "cf6bc897",
   "metadata": {},
   "outputs": [
    {
     "data": {
      "text/plain": [
       "Text(0.5, 0, 'Errors')"
      ]
     },
     "execution_count": 69,
     "metadata": {},
     "output_type": "execute_result"
    },
    {
     "data": {
      "image/png": "[encoded data removed]",
      "text/plain": [
       "<Figure size 432x288 with 1 Axes>"
      ]
     },
     "metadata": {
      "needs_background": "light"
     },
     "output_type": "display_data"
    }
   ],
   "source": [
    "# Plot the histogram of the error terms\n",
    "fig = plt.figure()\n",
    "sns.distplot((y_train - y_train_bike), bins = 20)\n",
    "fig.suptitle('Error Terms', fontsize = 20)                  # Plot heading \n",
    "plt.xlabel('Errors', fontsize = 18)                         # X-label"
   ]
  },
  {
   "cell_type": "code",
   "execution_count": 70,
   "id": "bb2da7e7",
   "metadata": {},
   "outputs": [],
   "source": [
    "#making prediction\n",
    "df_test[num_var]=scaler.transform(df_test[num_var])"
   ]
  },
  {
   "cell_type": "code",
   "execution_count": 71,
   "id": "ffff4f93",
   "metadata": {},
   "outputs": [],
   "source": [
    "y_test = df_test.pop('cnt')\n",
    "X_test = df_test"
   ]
  },
  {
   "cell_type": "code",
   "execution_count": 72,
   "id": "a9593185",
   "metadata": {},
   "outputs": [],
   "source": [
    "X_test_new=X_test[X_train_new3.columns]\n"
   ]
  },
  {
   "cell_type": "code",
   "execution_count": 73,
   "id": "d8d25ba3",
   "metadata": {},
   "outputs": [
    {
     "data": {
      "text/plain": [
       "pandas.core.frame.DataFrame"
      ]
     },
     "execution_count": 73,
     "metadata": {},
     "output_type": "execute_result"
    }
   ],
   "source": [
    "type(X_train_new3)"
   ]
  },
  {
   "cell_type": "code",
   "execution_count": 74,
   "id": "5099c6c2",
   "metadata": {},
   "outputs": [
    {
     "data": {
      "text/plain": [
       "pandas.core.frame.DataFrame"
      ]
     },
     "execution_count": 74,
     "metadata": {},
     "output_type": "execute_result"
    }
   ],
   "source": [
    "type(X_test_new)"
   ]
  },
  {
   "cell_type": "code",
   "execution_count": 75,
   "id": "306dceff",
   "metadata": {},
   "outputs": [],
   "source": [
    "X_test_new =sm.add_constant(X_test_new)\n",
    "#X_test_new=sm.add_constant(X_test_new)"
   ]
  },
  {
   "cell_type": "code",
   "execution_count": 76,
   "id": "ca388659",
   "metadata": {},
   "outputs": [],
   "source": [
    "y_pred=lm3.predict(X_test_new)"
   ]
  },
  {
   "cell_type": "code",
   "execution_count": 78,
   "id": "287f2b2d",
   "metadata": {},
   "outputs": [
    {
     "data": {
      "text/plain": [
       "Text(0.5, 0.98, 'y_test vs y_pred')"
      ]
     },
     "execution_count": 78,
     "metadata": {},
     "output_type": "execute_result"
    },
    {
     "data": {
      "image/png": "[encoded data removed]",
      "text/plain": [
       "<Figure size 432x288 with 1 Axes>"
      ]
     },
     "metadata": {
      "needs_background": "light"
     },
     "output_type": "display_data"
    }
   ],
   "source": [
    "# Plotting y_test and y_pred to understand the spread.\n",
    "\n",
    "fig, ax = plt.subplots()\n",
    "ax.scatter(y_test, y_pred, c='blue', label='y_test')  # Blue for y_test data points\n",
    "ax.scatter(y_test, y_pred, c='red', alpha=0.5, label='y_pred', marker='^')  # Red for y_pred data points, with transparency and marker\n",
    "fig.suptitle('y_test vs y_pred') "
   ]
  },
  {
   "cell_type": "code",
   "execution_count": 79,
   "id": "3cfec1d7",
   "metadata": {},
   "outputs": [
    {
     "data": {
      "text/plain": [
       "0.7931987105069319"
      ]
     },
     "execution_count": 79,
     "metadata": {},
     "output_type": "execute_result"
    }
   ],
   "source": [
    "r2_score(y_test, y_pred)\n"
   ]
  },
  {
   "cell_type": "code",
   "execution_count": 80,
   "id": "7af363fa",
   "metadata": {},
   "outputs": [],
   "source": [
    "rmse_test=np.sqrt(mean_squared_error(y_test,y_pred))\n",
    "mae_test=metrics.mean_absolute_error(y_test,y_pred)\n"
   ]
  },
  {
   "cell_type": "code",
   "execution_count": 81,
   "id": "07b9be4f",
   "metadata": {},
   "outputs": [
    {
     "name": "stdout",
     "output_type": "stream",
     "text": [
      "the RMSE value is  0.09910698447129734\n"
     ]
    }
   ],
   "source": [
    "print('the RMSE value is ',rmse_test)"
   ]
  },
  {
   "cell_type": "code",
   "execution_count": 82,
   "id": "5e5d436d",
   "metadata": {},
   "outputs": [
    {
     "name": "stdout",
     "output_type": "stream",
     "text": [
      "the MAE value is  0.0764535454217496\n"
     ]
    }
   ],
   "source": [
    "print('the MAE value is ',mae_test)"
   ]
  },
  {
   "cell_type": "markdown",
   "id": "b978ffae",
   "metadata": {},
   "source": [
    "### Conclusion\n",
    "\n",
    "- Value of 0.79 indicates that our model explains approximately 79% of the variance in bike rental demand, which is considered quite good.\n",
    "\n",
    "- Both RMSE (Root Mean Squared Error) and MAE (Mean Absolute Error) values are low, indicating that our model's predictions are close to the actual values, which is a positive sign.\n",
    "\n",
    "- Season significantly influences our linear regression model, as shown by our analysis. Our exploratory data analysis (EDA) also highlights higher bike rentals in fall and summer seasons.\n",
    "\n",
    "- Key predictors influencing bike demand include atemp (feeling temperature), windspeed, weather conditions, and whether it's a holiday or a working day.\n",
    "\n",
    "- Atemp (Feeling Temperature): There is a positive correlation between feeling temperature (in the range of 10-30 degrees Celsius) and bike demand. As the temperature increases within this range, we observe a notable increase in bike rentals.\n",
    "\n",
    "- windspeed: Lower windspeeds are associated with higher bike demand. This suggests that calm weather conditions tend to positively influence the decision to rent bikes.\n",
    "\n",
    "- Holiday vs. Working Day: Bike demand is higher on holidays compared to an average working day. This difference in demand pattern highlights the influence of weekdays versus holidays on bike rental behaviour\n",
    "\n",
    "\n",
    "\n",
    "- The month variable also plays a crucial role in our linear regression model's performance. Specifically, we observed higher demand for shared bikes from June to September.\n",
    "\n",
    "- Weather conditions also have a notable impact on our linear regression model. For instance, our analysis reveals that bike demand is higher during cloudy weather conditions"
   ]
  },
  {
   "cell_type": "code",
   "execution_count": null,
   "id": "7429488b",
   "metadata": {},
   "outputs": [],
   "source": []
  },
  {
   "cell_type": "code",
   "execution_count": null,
   "id": "be52e04f",
   "metadata": {},
   "outputs": [],
   "source": []
  }
 ],
 "metadata": {
  "kernelspec": {
   "display_name": "Python 3 (ipykernel)",
   "language": "python",
   "name": "python3"
  },
  "language_info": {
   "codemirror_mode": {
    "name": "ipython",
    "version": 3
   },
   "file_extension": ".py",
   "mimetype": "text/x-python",
   "name": "python",
   "nbconvert_exporter": "python",
   "pygments_lexer": "ipython3",
   "version": "3.9.7"
  }
 },
 "nbformat": 4,
 "nbformat_minor": 5
}
